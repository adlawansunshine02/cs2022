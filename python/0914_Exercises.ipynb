{
  "nbformat": 4,
  "nbformat_minor": 0,
  "metadata": {
    "colab": {
      "provenance": [],
      "collapsed_sections": []
    },
    "kernelspec": {
      "name": "python3",
      "display_name": "Python 3"
    },
    "language_info": {
      "name": "python"
    }
  },
  "cells": [
    {
      "cell_type": "markdown",
      "source": [
        "# 0914 4110E233\n",
        "\n",
        "Python Dictionaries Exercise"
      ],
      "metadata": {
        "id": "RxoQ8qCCkOLz"
      }
    },
    {
      "cell_type": "markdown",
      "source": [
        "Exercise 1 : Use the get method to print the value of the \"model\" key of the car dictionary."
      ],
      "metadata": {
        "id": "nOiE0uS0k1L-"
      }
    },
    {
      "cell_type": "code",
      "execution_count": 1,
      "metadata": {
        "colab": {
          "base_uri": "https://localhost:8080/"
        },
        "id": "z4UI-7Xfj_nx",
        "outputId": "526be987-a11c-48ab-c532-5da51d34537d"
      },
      "outputs": [
        {
          "output_type": "stream",
          "name": "stdout",
          "text": [
            "Mustang\n"
          ]
        }
      ],
      "source": [
        "car =\t{\n",
        "  \"brand\": \"Ford\",\n",
        "  \"model\": \"Mustang\",\n",
        "  \"year\": 1964\n",
        "}\n",
        "print(car.get(\"model\"))"
      ]
    },
    {
      "cell_type": "markdown",
      "source": [
        "Exercise 2 : Change the \"year\" value from 1964 to 2020."
      ],
      "metadata": {
        "id": "LOPRb_s7lSP7"
      }
    },
    {
      "cell_type": "code",
      "source": [
        "car =\t{\n",
        "  \"brand\": \"Ford\",\n",
        "  \"model\": \"Mustang\",\n",
        "  \"year\": 1964\n",
        "}\n",
        "car[\"year\"] = 2020\n",
        "\n",
        "print(car)\n"
      ],
      "metadata": {
        "colab": {
          "base_uri": "https://localhost:8080/"
        },
        "id": "FGlbhuH2kzhv",
        "outputId": "4d404028-20fc-43c5-cf04-d112a44d7886"
      },
      "execution_count": 3,
      "outputs": [
        {
          "output_type": "stream",
          "name": "stdout",
          "text": [
            "{'brand': 'Ford', 'model': 'Mustang', 'year': 2020}\n"
          ]
        }
      ]
    },
    {
      "cell_type": "markdown",
      "source": [
        "Exercise 3 : Add the key/value pair \"color\" : \"red\" to the car dictionary."
      ],
      "metadata": {
        "id": "y2Zxz87kloke"
      }
    },
    {
      "cell_type": "code",
      "source": [
        "car =\t{\n",
        "  \"brand\": \"Ford\",\n",
        "  \"model\": \"Mustang\",\n",
        "  \"year\": 1964\n",
        "}\n",
        "car[\"color\"] = \"red\"\n",
        "\n",
        "print(car)\n"
      ],
      "metadata": {
        "colab": {
          "base_uri": "https://localhost:8080/"
        },
        "id": "JUSqY-ldlzOw",
        "outputId": "aceef67a-4925-43b3-8ff7-03460a0cecae"
      },
      "execution_count": 5,
      "outputs": [
        {
          "output_type": "stream",
          "name": "stdout",
          "text": [
            "{'brand': 'Ford', 'model': 'Mustang', 'year': 1964, 'color': 'red'}\n"
          ]
        }
      ]
    },
    {
      "cell_type": "markdown",
      "source": [
        "Exercise 4 : Use the pop method to remove \"model\" from the car dictionary."
      ],
      "metadata": {
        "id": "EhazK8JQmH2r"
      }
    },
    {
      "cell_type": "code",
      "source": [
        "car =\t{\n",
        "  \"brand\": \"Ford\",\n",
        "  \"model\": \"Mustang\",\n",
        "  \"year\": 1964\n",
        "}\n",
        "car.pop(\"model\")\n",
        "\n",
        "print(car)"
      ],
      "metadata": {
        "colab": {
          "base_uri": "https://localhost:8080/"
        },
        "id": "jYii853nmLfM",
        "outputId": "ad143399-a74d-4d8d-8738-caddc76a0801"
      },
      "execution_count": 6,
      "outputs": [
        {
          "output_type": "stream",
          "name": "stdout",
          "text": [
            "{'brand': 'Ford', 'year': 1964}\n"
          ]
        }
      ]
    },
    {
      "cell_type": "markdown",
      "source": [
        "Exercise 5 : Use the clear method to empty the car dictionary."
      ],
      "metadata": {
        "id": "kjZV5vMMmZve"
      }
    },
    {
      "cell_type": "code",
      "source": [
        "car =\t{\n",
        "  \"brand\": \"Ford\",\n",
        "  \"model\": \"Mustang\",\n",
        "  \"year\": 1964\n",
        "}\n",
        "car.clear()\n",
        "\n",
        "print(car)"
      ],
      "metadata": {
        "colab": {
          "base_uri": "https://localhost:8080/"
        },
        "id": "OqTYVT6omdss",
        "outputId": "38072285-9795-4ce6-a792-65469e915718"
      },
      "execution_count": 7,
      "outputs": [
        {
          "output_type": "stream",
          "name": "stdout",
          "text": [
            "{}\n"
          ]
        }
      ]
    }
  ]
}