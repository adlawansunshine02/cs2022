{
  "nbformat": 4,
  "nbformat_minor": 0,
  "metadata": {
    "colab": {
      "provenance": [],
      "collapsed_sections": []
    },
    "kernelspec": {
      "name": "python3",
      "display_name": "Python 3"
    },
    "language_info": {
      "name": "python"
    }
  },
  "cells": [
    {
      "cell_type": "markdown",
      "source": [
        "# 1019 4110E233\n",
        "\n",
        "For Loops"
      ],
      "metadata": {
        "id": "7IXBpf8F4yfQ"
      }
    },
    {
      "cell_type": "markdown",
      "source": [
        "A for loop is used for iterating over a sequence (that is either a list, a tuple, a dictionary, a set, or a string)."
      ],
      "metadata": {
        "id": "_5vNLaEotaUF"
      }
    },
    {
      "cell_type": "markdown",
      "source": [
        "Print each fruit in a fruit list:"
      ],
      "metadata": {
        "id": "t9xqdrXC5Bdr"
      }
    },
    {
      "cell_type": "code",
      "execution_count": null,
      "metadata": {
        "colab": {
          "base_uri": "https://localhost:8080/"
        },
        "id": "_mWzumYR4u4u",
        "outputId": "592bdbf3-0b32-4203-e086-eef877b5f713"
      },
      "outputs": [
        {
          "output_type": "stream",
          "name": "stdout",
          "text": [
            "pineapple\n",
            "watermelon\n",
            "strawberry\n"
          ]
        }
      ],
      "source": [
        "fruits = [\"pineapple\", \"watermelon\", \"strawberry\"]\n",
        "for x in fruits:\n",
        "  print(x)"
      ]
    },
    {
      "cell_type": "markdown",
      "source": [
        "The for loop does not require an indexing variable to set beforehand."
      ],
      "metadata": {
        "id": "-aP1d6F8uz3l"
      }
    },
    {
      "cell_type": "markdown",
      "source": [
        "Looping Through a String"
      ],
      "metadata": {
        "id": "1kgKhxAx5f_3"
      }
    },
    {
      "cell_type": "markdown",
      "source": [
        "Even strings are iterable objects, they contain a sequence of characters:"
      ],
      "metadata": {
        "id": "nJEhtbTt5uOY"
      }
    },
    {
      "cell_type": "code",
      "source": [
        "for x in \"strawberry\":\n",
        "  print(x)"
      ],
      "metadata": {
        "colab": {
          "base_uri": "https://localhost:8080/"
        },
        "id": "cAmBYU-o4w89",
        "outputId": "1ddab0b8-47f0-497b-c988-a73cd8c4bbb6"
      },
      "execution_count": null,
      "outputs": [
        {
          "output_type": "stream",
          "name": "stdout",
          "text": [
            "s\n",
            "t\n",
            "r\n",
            "a\n",
            "w\n",
            "b\n",
            "e\n",
            "r\n",
            "r\n",
            "y\n"
          ]
        }
      ]
    },
    {
      "cell_type": "markdown",
      "source": [
        "The break Statement"
      ],
      "metadata": {
        "id": "Wh-YSv-a6MAf"
      }
    },
    {
      "cell_type": "markdown",
      "source": [
        "With the break statement we can stop the loop before it has looped through all the items:"
      ],
      "metadata": {
        "id": "G44pN9Rb6RV3"
      }
    },
    {
      "cell_type": "code",
      "source": [
        "fruits = [\"pineapple\", \"watermelon\", \"strawberry\"]\n",
        "for x in fruits:\n",
        "  print(x)\n",
        "  if x == \"watermelon\":\n",
        "    break"
      ],
      "metadata": {
        "colab": {
          "base_uri": "https://localhost:8080/"
        },
        "id": "s-8zCCpw6UPj",
        "outputId": "4e815522-0d90-41d0-a734-bf7dfd6ecf82"
      },
      "execution_count": null,
      "outputs": [
        {
          "output_type": "stream",
          "name": "stdout",
          "text": [
            "pineapple\n",
            "watermelon\n"
          ]
        }
      ]
    },
    {
      "cell_type": "markdown",
      "source": [
        "Exit the loop when x is \"banana\", but this time the break comes before the print:"
      ],
      "metadata": {
        "id": "ocdCl1ta6dKH"
      }
    },
    {
      "cell_type": "code",
      "source": [
        "fruits = [\"pineapple\", \"watermelon\", \"strawberry\"]\n",
        "for x in fruits:\n",
        "  if x == \"watermelon\":\n",
        "    break\n",
        "  print(x)"
      ],
      "metadata": {
        "colab": {
          "base_uri": "https://localhost:8080/"
        },
        "id": "4i28rJx16gX4",
        "outputId": "8a1cf3ef-533a-4991-bbb5-45a441b57b93"
      },
      "execution_count": null,
      "outputs": [
        {
          "output_type": "stream",
          "name": "stdout",
          "text": [
            "pineapple\n"
          ]
        }
      ]
    },
    {
      "cell_type": "markdown",
      "source": [
        "The continue Statement"
      ],
      "metadata": {
        "id": "rQKtdFjj6pVn"
      }
    },
    {
      "cell_type": "markdown",
      "source": [
        "With the continue statement we can stop the current iteration of the loop, and continue with the next:"
      ],
      "metadata": {
        "id": "c1RLYOFz6rxw"
      }
    },
    {
      "cell_type": "code",
      "source": [
        "fruits = [\"pineapple\", \"watermelon\", \"strawberry\"]\n",
        "for x in fruits:\n",
        "  if x == \"watermelon\":\n",
        "    continue\n",
        "  print(x)"
      ],
      "metadata": {
        "colab": {
          "base_uri": "https://localhost:8080/"
        },
        "id": "8Xf8IXgY6sX3",
        "outputId": "7aa8e528-17df-43b4-b0ee-cb95bb91e877"
      },
      "execution_count": null,
      "outputs": [
        {
          "output_type": "stream",
          "name": "stdout",
          "text": [
            "pineapple\n",
            "strawberry\n"
          ]
        }
      ]
    },
    {
      "cell_type": "markdown",
      "source": [
        "The range() Function"
      ],
      "metadata": {
        "id": "4FvRXe6F61wY"
      }
    },
    {
      "cell_type": "markdown",
      "source": [
        "To loop through a set of code a specified number of times, we can use the range() function,"
      ],
      "metadata": {
        "id": "7EWRiY3664X8"
      }
    },
    {
      "cell_type": "markdown",
      "source": [
        "The range() function returns a sequence of numbers, starting from 0 by default, and increments by 1 (by default), and ends at a specified number."
      ],
      "metadata": {
        "id": "klAnKb9B6-1Y"
      }
    },
    {
      "cell_type": "code",
      "source": [
        "for x in range(10):\n",
        "  print(x)\n",
        "# Note that range(10) is not the values of 0 to 10, but the values 0 to 9."
      ],
      "metadata": {
        "colab": {
          "base_uri": "https://localhost:8080/"
        },
        "id": "uO8hXCBg66BZ",
        "outputId": "9661fb0f-e1b4-4980-d207-1d27a37dfc5e"
      },
      "execution_count": null,
      "outputs": [
        {
          "output_type": "stream",
          "name": "stdout",
          "text": [
            "0\n",
            "1\n",
            "2\n",
            "3\n",
            "4\n",
            "5\n",
            "6\n",
            "7\n",
            "8\n",
            "9\n"
          ]
        }
      ]
    },
    {
      "cell_type": "markdown",
      "source": [
        "The range() function defaults to 0 as a starting value, however it is possible to specify the starting value by adding a parameter: range(1, 10), which means values from 1 to 10 (but not including 10):"
      ],
      "metadata": {
        "id": "mDkvkM9c7Q3J"
      }
    },
    {
      "cell_type": "code",
      "source": [
        "for x in range(1, 10):\n",
        "  print(x)"
      ],
      "metadata": {
        "colab": {
          "base_uri": "https://localhost:8080/"
        },
        "id": "2H-zjP_27meW",
        "outputId": "824b54b3-9a07-463d-cdab-cea6944d63cc"
      },
      "execution_count": null,
      "outputs": [
        {
          "output_type": "stream",
          "name": "stdout",
          "text": [
            "1\n",
            "2\n",
            "3\n",
            "4\n",
            "5\n",
            "6\n",
            "7\n",
            "8\n",
            "9\n"
          ]
        }
      ]
    },
    {
      "cell_type": "markdown",
      "source": [
        "The range() function defaults to increment the sequence by 1, however it is possible to specify the increment value by adding a third parameter: range(1, 10, 3):"
      ],
      "metadata": {
        "id": "Wns2wAAR7qxY"
      }
    },
    {
      "cell_type": "code",
      "source": [
        "for x in range(1, 10, 3):\n",
        "  print(x)"
      ],
      "metadata": {
        "colab": {
          "base_uri": "https://localhost:8080/"
        },
        "id": "I_KHxZWm71MV",
        "outputId": "a1587d59-6c60-4504-f108-bb130490d277"
      },
      "execution_count": null,
      "outputs": [
        {
          "output_type": "stream",
          "name": "stdout",
          "text": [
            "1\n",
            "4\n",
            "7\n"
          ]
        }
      ]
    },
    {
      "cell_type": "markdown",
      "source": [
        "Else in For Loop"
      ],
      "metadata": {
        "id": "fK7bpESU74MR"
      }
    },
    {
      "cell_type": "markdown",
      "source": [
        "The else keyword in a for loop specifies a block of code to be executed when the loop is finished:"
      ],
      "metadata": {
        "id": "fHhL1IbN8EpK"
      }
    },
    {
      "cell_type": "code",
      "source": [
        "for x in range(10):\n",
        "  print(x)\n",
        "else:\n",
        "  print(\"Done!\")"
      ],
      "metadata": {
        "colab": {
          "base_uri": "https://localhost:8080/"
        },
        "id": "1rbPzRtm8KUj",
        "outputId": "1c28d1b3-2f15-421c-847e-42ebcd28de66"
      },
      "execution_count": null,
      "outputs": [
        {
          "output_type": "stream",
          "name": "stdout",
          "text": [
            "0\n",
            "1\n",
            "2\n",
            "3\n",
            "4\n",
            "5\n",
            "6\n",
            "7\n",
            "8\n",
            "9\n",
            "Done!\n"
          ]
        }
      ]
    },
    {
      "cell_type": "markdown",
      "source": [
        "Note: The else block will NOT be executed if the loop is stopped by a break statement."
      ],
      "metadata": {
        "id": "LxuJkhEu8Os7"
      }
    },
    {
      "cell_type": "code",
      "source": [
        "for x in range(10):\n",
        "  if x == 5: break\n",
        "  print(x)\n",
        "else:\n",
        "  print(\"Done!\")"
      ],
      "metadata": {
        "colab": {
          "base_uri": "https://localhost:8080/"
        },
        "id": "qUzCkCi68rzd",
        "outputId": "4d7a38a4-cfd5-4a28-fe20-5c3d8bc02cf8"
      },
      "execution_count": null,
      "outputs": [
        {
          "output_type": "stream",
          "name": "stdout",
          "text": [
            "0\n",
            "1\n",
            "2\n",
            "3\n",
            "4\n"
          ]
        }
      ]
    },
    {
      "cell_type": "markdown",
      "source": [
        "Nested Loops"
      ],
      "metadata": {
        "id": "GhuQGi4bsGBn"
      }
    },
    {
      "cell_type": "markdown",
      "source": [
        "A nested loop is a loop inside a loop.\n",
        "\n",
        "The \"inner loop\" will be executed one time for each iteration of the \"outer loop\":"
      ],
      "metadata": {
        "id": "g22bH9JmsIst"
      }
    },
    {
      "cell_type": "code",
      "source": [
        "adj = [\"small\", \"delicious\", \"sweet\"]\n",
        "fruits = [\"pineapple\", \"watermelon\", \"strawberry\"]\n",
        "\n",
        "for x in adj:\n",
        "  for y in fruits:\n",
        "    print(x, y)"
      ],
      "metadata": {
        "colab": {
          "base_uri": "https://localhost:8080/"
        },
        "id": "a_s9nrn_sMHw",
        "outputId": "fee77873-806b-4006-9319-7583f5279c09"
      },
      "execution_count": null,
      "outputs": [
        {
          "output_type": "stream",
          "name": "stdout",
          "text": [
            "small pineapple\n",
            "small watermelon\n",
            "small strawberry\n",
            "cute pineapple\n",
            "cute watermelon\n",
            "cute strawberry\n",
            "black pineapple\n",
            "black watermelon\n",
            "black strawberry\n"
          ]
        }
      ]
    },
    {
      "cell_type": "markdown",
      "source": [
        "The pass Statement"
      ],
      "metadata": {
        "id": "dc7st5qhrykW"
      }
    },
    {
      "cell_type": "markdown",
      "source": [
        "for loops cannot be empty, but if you for some reason have a for loop with no content, put in the pass statement to avoid getting an error."
      ],
      "metadata": {
        "id": "KhHWhfgGsziH"
      }
    },
    {
      "cell_type": "code",
      "source": [
        "for x in [\"red\", \"blue\", \"yellow\"]:\n",
        "  pass"
      ],
      "metadata": {
        "id": "sIOGKbI0s1w_"
      },
      "execution_count": null,
      "outputs": []
    }
  ]
}