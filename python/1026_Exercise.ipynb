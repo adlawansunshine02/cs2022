{
  "nbformat": 4,
  "nbformat_minor": 0,
  "metadata": {
    "colab": {
      "provenance": [],
      "collapsed_sections": []
    },
    "kernelspec": {
      "name": "python3",
      "display_name": "Python 3"
    },
    "language_info": {
      "name": "python"
    }
  },
  "cells": [
    {
      "cell_type": "code",
      "source": [
        "def sum(i1, i2):\n",
        "    result = 0\n",
        "    for i in range(i1, i2+1):\n",
        "        result += i\n",
        "    return result\n",
        "\n",
        "def main():\n",
        "    print(\"Sum from 1 to 123 is\", sum(1, 123)) \n",
        "    print(\"Sum from 5 to 10 is\", sum(5, 10))\n",
        "    print(\"Sum from 50 to 100 is\", sum(50, 100))\n",
        "\n",
        "main() # Call the main function"
      ],
      "metadata": {
        "colab": {
          "base_uri": "https://localhost:8080/"
        },
        "id": "Kl0XbiQcwcdE",
        "outputId": "ef232eee-77ec-4ea6-a831-1eb3d90696f6"
      },
      "execution_count": 5,
      "outputs": [
        {
          "output_type": "stream",
          "name": "stdout",
          "text": [
            "Sum from 1 to 123 is 7626\n",
            "Sum from 5 to 10 is 45\n",
            "Sum from 50 to 100 is 3825\n"
          ]
        }
      ]
    },
    {
      "cell_type": "markdown",
      "source": [
        "f(101)"
      ],
      "metadata": {
        "id": "xvcjBHdq-Bez"
      }
    },
    {
      "cell_type": "code",
      "source": [
        "def f(n):\n",
        "   if n == 1:\n",
        "     return 1\n",
        "   else:\n",
        "     return f(n-1) + n\n",
        "\n",
        "f(101)"
      ],
      "metadata": {
        "colab": {
          "base_uri": "https://localhost:8080/"
        },
        "id": "rmxJ5qZg9xn2",
        "outputId": "021e8b1b-6925-4fde-de07-b286752a560f"
      },
      "execution_count": 8,
      "outputs": [
        {
          "output_type": "execute_result",
          "data": {
            "text/plain": [
              "5151"
            ]
          },
          "metadata": {},
          "execution_count": 8
        }
      ]
    }
  ]
}