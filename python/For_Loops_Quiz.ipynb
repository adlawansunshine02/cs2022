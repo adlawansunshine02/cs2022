{
  "nbformat": 4,
  "nbformat_minor": 0,
  "metadata": {
    "colab": {
      "provenance": [],
      "collapsed_sections": []
    },
    "kernelspec": {
      "name": "python3",
      "display_name": "Python 3"
    },
    "language_info": {
      "name": "python"
    }
  },
  "cells": [
    {
      "cell_type": "code",
      "execution_count": null,
      "metadata": {
        "colab": {
          "base_uri": "https://localhost:8080/"
        },
        "id": "uJJyEqEx8XuJ",
        "outputId": "71ecd230-177a-4952-8ffe-49660e25c7ca"
      },
      "outputs": [
        {
          "output_type": "stream",
          "name": "stdout",
          "text": [
            "5328\n"
          ]
        }
      ],
      "source": [
        "initial = 111\n",
        "\n",
        "for x in range(2,7,2):\n",
        "  initial *= x  #initial = initial*x\n",
        "\n",
        "print(initial)"
      ]
    },
    {
      "cell_type": "code",
      "source": [
        "initial = 111\n",
        "\n",
        "for x in range(2,7,2):\n",
        "  initial -= x  #initial = initial - x\n",
        "\n",
        "print(initial)"
      ],
      "metadata": {
        "colab": {
          "base_uri": "https://localhost:8080/"
        },
        "id": "wbENmw32VZCZ",
        "outputId": "522ff101-54b4-4aaf-bcaf-f34d8df671d6"
      },
      "execution_count": null,
      "outputs": [
        {
          "output_type": "stream",
          "name": "stdout",
          "text": [
            "99\n"
          ]
        }
      ]
    }
  ]
}