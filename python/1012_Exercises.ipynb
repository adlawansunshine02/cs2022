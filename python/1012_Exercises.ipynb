{
  "nbformat": 4,
  "nbformat_minor": 0,
  "metadata": {
    "colab": {
      "provenance": [],
      "collapsed_sections": []
    },
    "kernelspec": {
      "name": "python3",
      "display_name": "Python 3"
    },
    "language_info": {
      "name": "python"
    }
  },
  "cells": [
    {
      "cell_type": "markdown",
      "source": [
        "Exercise 1 : Print the second item in the fruits list."
      ],
      "metadata": {
        "id": "q5kjpSCDeBDI"
      }
    },
    {
      "cell_type": "code",
      "execution_count": 1,
      "metadata": {
        "colab": {
          "base_uri": "https://localhost:8080/"
        },
        "id": "3I9J2WdMd9cC",
        "outputId": "446e8409-392b-4984-ce36-74a163dcd7cb"
      },
      "outputs": [
        {
          "output_type": "stream",
          "name": "stdout",
          "text": [
            "banana\n"
          ]
        }
      ],
      "source": [
        "fruits = [\"apple\", \"banana\", \"cherry\"]\n",
        "print(fruits[1])"
      ]
    },
    {
      "cell_type": "markdown",
      "source": [
        "Exercise 2 : Change the value from \"apple\" to \"kiwi\", in the fruits list."
      ],
      "metadata": {
        "id": "Ii6nqcOff5ZS"
      }
    },
    {
      "cell_type": "code",
      "source": [
        "fruits = [\"apple\", \"banana\", \"cherry\"]\n",
        "fruits[0] = \"kiwi\"\n",
        "print(fruits)"
      ],
      "metadata": {
        "colab": {
          "base_uri": "https://localhost:8080/"
        },
        "id": "5kdGw7S3f7wf",
        "outputId": "3f56d2c1-22c1-4e90-8422-d990f50eba60"
      },
      "execution_count": 4,
      "outputs": [
        {
          "output_type": "stream",
          "name": "stdout",
          "text": [
            "['kiwi', 'banana', 'cherry']\n"
          ]
        }
      ]
    },
    {
      "cell_type": "markdown",
      "source": [
        "Exercise 3 : Use the append method to add \"orange\" to the fruits list."
      ],
      "metadata": {
        "id": "JE_B_EHAgtpi"
      }
    },
    {
      "cell_type": "code",
      "source": [
        "fruits = [\"apple\", \"banana\", \"cherry\"]\n",
        "fruits.append(\"orange\")\n",
        "print(fruits)"
      ],
      "metadata": {
        "colab": {
          "base_uri": "https://localhost:8080/"
        },
        "id": "2r6dvsS_hEsR",
        "outputId": "633dd421-21b1-42b5-a8e2-bce2e7c5d2fc"
      },
      "execution_count": 5,
      "outputs": [
        {
          "output_type": "stream",
          "name": "stdout",
          "text": [
            "['apple', 'banana', 'cherry', 'orange']\n"
          ]
        }
      ]
    },
    {
      "cell_type": "markdown",
      "source": [
        "Exercise 4 : Use the insert method to add \"lemon\" as the second item in the fruits list."
      ],
      "metadata": {
        "id": "IdqWwsL8hQHx"
      }
    },
    {
      "cell_type": "code",
      "source": [
        "fruits = [\"apple\", \"banana\", \"cherry\"]\n",
        "fruits.insert(1,\"lemon\")\n",
        "print(fruits)"
      ],
      "metadata": {
        "colab": {
          "base_uri": "https://localhost:8080/"
        },
        "id": "egKDuoguhWS1",
        "outputId": "734f8285-14e5-4fe4-8a9d-3094d5c2795e"
      },
      "execution_count": 6,
      "outputs": [
        {
          "output_type": "stream",
          "name": "stdout",
          "text": [
            "['apple', 'lemon', 'banana', 'cherry']\n"
          ]
        }
      ]
    },
    {
      "cell_type": "markdown",
      "source": [
        "Exercise 5 : Use the remove method to remove \"banana\" from the fruits list."
      ],
      "metadata": {
        "id": "T4FyFqlJhvzR"
      }
    },
    {
      "cell_type": "code",
      "source": [
        "fruits = [\"apple\", \"banana\", \"cherry\"]\n",
        "fruits.remove(\"banana\")\n",
        "print(fruits)"
      ],
      "metadata": {
        "colab": {
          "base_uri": "https://localhost:8080/"
        },
        "id": "LrGTP8DXiAHg",
        "outputId": "0d7b366f-49bd-407d-a842-bc9be50090ed"
      },
      "execution_count": 7,
      "outputs": [
        {
          "output_type": "stream",
          "name": "stdout",
          "text": [
            "['apple', 'cherry']\n"
          ]
        }
      ]
    },
    {
      "cell_type": "markdown",
      "source": [
        "Exercise 6 : Use negative indexing to print the last item in the list."
      ],
      "metadata": {
        "id": "dYP665iRiEJg"
      }
    },
    {
      "cell_type": "code",
      "source": [
        "fruits = [\"apple\", \"banana\", \"cherry\"]\n",
        "print(fruits[-1])"
      ],
      "metadata": {
        "colab": {
          "base_uri": "https://localhost:8080/"
        },
        "id": "0oRy49zciI0Q",
        "outputId": "08f0fad2-30ec-40bb-c6ff-409b97341c2b"
      },
      "execution_count": 8,
      "outputs": [
        {
          "output_type": "stream",
          "name": "stdout",
          "text": [
            "cherry\n"
          ]
        }
      ]
    },
    {
      "cell_type": "markdown",
      "source": [
        "Exercise 7 : Use a range of indexes to print the third, fourth, and fifth item in the list."
      ],
      "metadata": {
        "id": "iDpsUQlZibw6"
      }
    },
    {
      "cell_type": "code",
      "source": [
        "fruits = [\"apple\", \"banana\", \"cherry\", \"orange\", \"kiwi\", \"melon\", \"mango\"]\n",
        "print(fruits[2:5])"
      ],
      "metadata": {
        "colab": {
          "base_uri": "https://localhost:8080/"
        },
        "id": "fgV0QduMikDr",
        "outputId": "3a3a2130-134a-4f99-939b-dd41d651a409"
      },
      "execution_count": 9,
      "outputs": [
        {
          "output_type": "stream",
          "name": "stdout",
          "text": [
            "['cherry', 'orange', 'kiwi']\n"
          ]
        }
      ]
    },
    {
      "cell_type": "markdown",
      "source": [
        "Exercise 8 : Use the correct syntax to print the number of items in the list."
      ],
      "metadata": {
        "id": "94vsUwM8iwxZ"
      }
    },
    {
      "cell_type": "code",
      "source": [
        "fruits = [\"apple\", \"banana\", \"cherry\"]\n",
        "print(len(fruits))"
      ],
      "metadata": {
        "colab": {
          "base_uri": "https://localhost:8080/"
        },
        "id": "gqnx1Nsji3x4",
        "outputId": "d0b5408d-26ca-44a8-f5d0-f664607168f1"
      },
      "execution_count": 10,
      "outputs": [
        {
          "output_type": "stream",
          "name": "stdout",
          "text": [
            "3\n"
          ]
        }
      ]
    },
    {
      "cell_type": "markdown",
      "source": [
        "Example 2: remove() method on a list having duplicate elements"
      ],
      "metadata": {
        "id": "Tp_-Ls2Ajk2i"
      }
    },
    {
      "cell_type": "code",
      "source": [
        "# animals list\n",
        "animals = ['cat', 'dog', 'dog', 'guinea pig', 'dog']\n",
        "\n",
        "# 'dog' is removed\n",
        "animals.remove('dog')\n",
        "\n",
        "\n",
        "# Updated animals list\n",
        "print('Updated animals list: ', animals)"
      ],
      "metadata": {
        "colab": {
          "base_uri": "https://localhost:8080/"
        },
        "id": "GRheXFmYjl5S",
        "outputId": "ba3f4aad-2d33-4aa6-c6bf-691f23e123de"
      },
      "execution_count": 11,
      "outputs": [
        {
          "output_type": "stream",
          "name": "stdout",
          "text": [
            "Updated animals list:  ['cat', 'dog', 'guinea pig', 'dog']\n"
          ]
        }
      ]
    },
    {
      "cell_type": "markdown",
      "source": [
        "Example 3: Deleting element that doesn't exist"
      ],
      "metadata": {
        "id": "noT7jNcUkA5Z"
      }
    },
    {
      "cell_type": "code",
      "source": [
        "# animals list\n",
        "animals = ['cat', 'dog', 'rabbit', 'guinea pig']\n",
        "\n",
        "# Deleting 'fish' element\n",
        "animals.remove('fish')\n",
        "\n",
        "\n",
        "# Updated animals List\n",
        "print('Updated animals list: ', animals)"
      ],
      "metadata": {
        "colab": {
          "base_uri": "https://localhost:8080/",
          "height": 235
        },
        "id": "OpZVlB4ikBUJ",
        "outputId": "b60110a2-5bb7-4d40-de5c-6c5613916816"
      },
      "execution_count": 12,
      "outputs": [
        {
          "output_type": "error",
          "ename": "ValueError",
          "evalue": "ignored",
          "traceback": [
            "\u001b[0;31m---------------------------------------------------------------------------\u001b[0m",
            "\u001b[0;31mValueError\u001b[0m                                Traceback (most recent call last)",
            "\u001b[0;32m<ipython-input-12-7efb38c95dde>\u001b[0m in \u001b[0;36m<module>\u001b[0;34m\u001b[0m\n\u001b[1;32m      3\u001b[0m \u001b[0;34m\u001b[0m\u001b[0m\n\u001b[1;32m      4\u001b[0m \u001b[0;31m# Deleting 'fish' element\u001b[0m\u001b[0;34m\u001b[0m\u001b[0;34m\u001b[0m\u001b[0;34m\u001b[0m\u001b[0m\n\u001b[0;32m----> 5\u001b[0;31m \u001b[0manimals\u001b[0m\u001b[0;34m.\u001b[0m\u001b[0mremove\u001b[0m\u001b[0;34m(\u001b[0m\u001b[0;34m'fish'\u001b[0m\u001b[0;34m)\u001b[0m\u001b[0;34m\u001b[0m\u001b[0;34m\u001b[0m\u001b[0m\n\u001b[0m\u001b[1;32m      6\u001b[0m \u001b[0;34m\u001b[0m\u001b[0m\n\u001b[1;32m      7\u001b[0m \u001b[0;34m\u001b[0m\u001b[0m\n",
            "\u001b[0;31mValueError\u001b[0m: list.remove(x): x not in list"
          ]
        }
      ]
    }
  ]
}