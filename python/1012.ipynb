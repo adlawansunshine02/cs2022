{
  "nbformat": 4,
  "nbformat_minor": 0,
  "metadata": {
    "colab": {
      "provenance": [],
      "collapsed_sections": []
    },
    "kernelspec": {
      "name": "python3",
      "display_name": "Python 3"
    },
    "language_info": {
      "name": "python"
    }
  },
  "cells": [
    {
      "cell_type": "markdown",
      "source": [
        "# 1012 4110E233"
      ],
      "metadata": {
        "id": "ZLmvZ20HUiA3"
      }
    },
    {
      "cell_type": "markdown",
      "source": [
        "Python Lists"
      ],
      "metadata": {
        "id": "jJ1e-4TtUrEG"
      }
    },
    {
      "cell_type": "code",
      "execution_count": 1,
      "metadata": {
        "id": "BGwlZiy4o0Cy",
        "colab": {
          "base_uri": "https://localhost:8080/"
        },
        "outputId": "31ed3fc2-6230-4a4c-d550-3bd1709cdde8"
      },
      "outputs": [
        {
          "output_type": "stream",
          "name": "stdout",
          "text": [
            "高瑞夫 - 4110e233\n",
            "['pineapple', 'strawberry', 'watermelon']\n"
          ]
        }
      ],
      "source": [
        "print(\"高瑞夫 - 4110e233\")\n",
        "thislist = [\"pineapple\", \"strawberry\", \"watermelon\"]\n",
        "print(thislist)"
      ]
    },
    {
      "cell_type": "markdown",
      "source": [
        "Allow Duplicates"
      ],
      "metadata": {
        "id": "GToy7h06VEdH"
      }
    },
    {
      "cell_type": "code",
      "source": [
        "print(\"高瑞夫 - 4110e233\")\n",
        "thislist = [\"pineapple\", \"strawberry\", \"watermelon\", \"strawberry\", \"strawberry\"]\n",
        "print(thislist)"
      ],
      "metadata": {
        "colab": {
          "base_uri": "https://localhost:8080/"
        },
        "id": "33cCJJq2VMSH",
        "outputId": "53539dbc-5ff9-4c1c-8742-624484726795"
      },
      "execution_count": 3,
      "outputs": [
        {
          "output_type": "stream",
          "name": "stdout",
          "text": [
            "高瑞夫 - 4110e233\n",
            "['pineapple', 'strawberry', 'watermelon', 'strawberry', 'strawberry']\n"
          ]
        }
      ]
    },
    {
      "cell_type": "markdown",
      "source": [
        "List Length"
      ],
      "metadata": {
        "id": "erouo5U_VNnv"
      }
    },
    {
      "cell_type": "code",
      "source": [
        "print(\"高瑞夫 - 4110e233\")\n",
        "thislist = [\"pineapple\", \"strawberry\", \"watermelon\"]\n",
        "print(len(thislist))"
      ],
      "metadata": {
        "colab": {
          "base_uri": "https://localhost:8080/"
        },
        "id": "w2Wo-hqeVRLQ",
        "outputId": "94dbbbfc-39bf-4d96-b197-31b14a76ee5f"
      },
      "execution_count": 2,
      "outputs": [
        {
          "output_type": "stream",
          "name": "stdout",
          "text": [
            "高瑞夫 - 4110e233\n",
            "3\n"
          ]
        }
      ]
    },
    {
      "cell_type": "markdown",
      "source": [
        "List Items - Data Types"
      ],
      "metadata": {
        "id": "Z9ONZyJtVXrA"
      }
    },
    {
      "cell_type": "code",
      "source": [
        "print(\"高瑞夫 - 4110e233\")\n",
        "string_list = [\"pineapple\", \"strawberry\", \"watermelon\"]\n",
        "int_list = [1, 5, 7, 9, 3]\n",
        "bolean_list = [True, False, False]\n",
        "\n",
        "print(string_list)\n",
        "print(int_list)\n",
        "print(bolean_list)"
      ],
      "metadata": {
        "colab": {
          "base_uri": "https://localhost:8080/"
        },
        "id": "FAqYJeEsVcw3",
        "outputId": "e6f63631-d72c-493f-b7ab-9678aee1caa6"
      },
      "execution_count": 4,
      "outputs": [
        {
          "output_type": "stream",
          "name": "stdout",
          "text": [
            "高瑞夫 - 4110e233\n",
            "['pineapple', 'strawberry', 'watermelon']\n",
            "[1, 5, 7, 9, 3]\n",
            "[True, False, False]\n"
          ]
        }
      ]
    },
    {
      "cell_type": "markdown",
      "source": [
        "A list can contain different data types:"
      ],
      "metadata": {
        "id": "YjFZYem0VhLC"
      }
    },
    {
      "cell_type": "code",
      "source": [
        "print(\"高瑞夫 - 4110e233\")\n",
        "list = [100, \"HELLO\", 99, True, False]\n",
        "\n",
        "print(list)"
      ],
      "metadata": {
        "colab": {
          "base_uri": "https://localhost:8080/"
        },
        "id": "LNHlD6G7Vj-f",
        "outputId": "316cb418-c8ee-47ae-9f3b-8147066ef7a3"
      },
      "execution_count": 5,
      "outputs": [
        {
          "output_type": "stream",
          "name": "stdout",
          "text": [
            "高瑞夫 - 4110e233\n",
            "[100, 'HELLO', 99, True, False]\n"
          ]
        }
      ]
    },
    {
      "cell_type": "markdown",
      "source": [
        "type()"
      ],
      "metadata": {
        "id": "qJs74Bu0VoXg"
      }
    },
    {
      "cell_type": "code",
      "source": [
        "print(\"高瑞夫 - 4110e233\")\n",
        "mylist = [\"pineapple\", \"strawberry\", \"watermelon\"]\n",
        "print(type(mylist))"
      ],
      "metadata": {
        "colab": {
          "base_uri": "https://localhost:8080/"
        },
        "id": "MClVxD81VrKg",
        "outputId": "c05f801e-8b56-4115-e5c9-9924dd34f970"
      },
      "execution_count": 6,
      "outputs": [
        {
          "output_type": "stream",
          "name": "stdout",
          "text": [
            "高瑞夫 - 4110e233\n",
            "<class 'list'>\n"
          ]
        }
      ]
    },
    {
      "cell_type": "markdown",
      "source": [
        "Access List Items"
      ],
      "metadata": {
        "id": "KmRiWfajVvEn"
      }
    },
    {
      "cell_type": "markdown",
      "source": [
        "List items are indexed and you can access them by referring to the index number:"
      ],
      "metadata": {
        "id": "DHbWpbGDV0rf"
      }
    },
    {
      "cell_type": "code",
      "source": [
        "print(\"高瑞夫 - 4110e233\")\n",
        "thislist = [\"pineapple\", \"strawberry\", \"watermelon\"]\n",
        "print(thislist[2])"
      ],
      "metadata": {
        "colab": {
          "base_uri": "https://localhost:8080/"
        },
        "id": "5baM8RmmV7g_",
        "outputId": "073f82c0-179c-40c1-e04c-e4ae36d8fc6d"
      },
      "execution_count": 7,
      "outputs": [
        {
          "output_type": "stream",
          "name": "stdout",
          "text": [
            "高瑞夫 - 4110e233\n",
            "watermelon\n"
          ]
        }
      ]
    },
    {
      "cell_type": "markdown",
      "source": [
        "Negative Indexing"
      ],
      "metadata": {
        "id": "SF00Vk06WAhn"
      }
    },
    {
      "cell_type": "code",
      "source": [
        "print(\"高瑞夫 - 4110e233\")\n",
        "thislist = [\"pineapple\", \"strawberry\", \"watermelon\"]\n",
        "print(thislist[-2])"
      ],
      "metadata": {
        "colab": {
          "base_uri": "https://localhost:8080/"
        },
        "id": "w0U_YcX-WCO_",
        "outputId": "a4ef7dbf-4e4d-446b-bf4d-75ca9e1de728"
      },
      "execution_count": 8,
      "outputs": [
        {
          "output_type": "stream",
          "name": "stdout",
          "text": [
            "高瑞夫 - 4110e233\n",
            "strawberry\n"
          ]
        }
      ]
    },
    {
      "cell_type": "markdown",
      "source": [
        "Range of Indexes"
      ],
      "metadata": {
        "id": "87GnwqdoWFCn"
      }
    },
    {
      "cell_type": "code",
      "source": [
        "print(\"高瑞夫 - 4110e233\")\n",
        "thislist = [\"pineapple\", \"strawberry\", \"watermelon\", \"wine\", \"xerox\", \"zebra\"]\n",
        "print(thislist[1:4])"
      ],
      "metadata": {
        "colab": {
          "base_uri": "https://localhost:8080/"
        },
        "id": "Iyurw6T-WKKI",
        "outputId": "9ee8d7e4-64b3-4376-e767-6f085a7b7de3"
      },
      "execution_count": 9,
      "outputs": [
        {
          "output_type": "stream",
          "name": "stdout",
          "text": [
            "高瑞夫 - 4110e233\n",
            "['strawberry', 'watermelon', 'wine']\n"
          ]
        }
      ]
    },
    {
      "cell_type": "markdown",
      "source": [
        "By leaving out the start value, the range will start at the first item:"
      ],
      "metadata": {
        "id": "lzeMa5q5WRKH"
      }
    },
    {
      "cell_type": "code",
      "source": [
        "print(\"高瑞夫 - 4110e233\")\n",
        "thislist = [\"pineapple\", \"strawberry\", \"watermelon\", \"wine\", \"xerox\", \"zebra\"]\n",
        "print(thislist[:5])"
      ],
      "metadata": {
        "colab": {
          "base_uri": "https://localhost:8080/"
        },
        "id": "wcTqknmzWS9v",
        "outputId": "9ab76d6b-b418-4e26-898c-8c08c39f1a75"
      },
      "execution_count": 12,
      "outputs": [
        {
          "output_type": "stream",
          "name": "stdout",
          "text": [
            "高瑞夫 - 4110e233\n",
            "['pineapple', 'strawberry', 'watermelon', 'wine', 'xerox']\n"
          ]
        }
      ]
    },
    {
      "cell_type": "markdown",
      "source": [
        "By leaving out the end value, the range will go on to the end of the list:"
      ],
      "metadata": {
        "id": "b2jnCPi2WVWn"
      }
    },
    {
      "cell_type": "code",
      "source": [
        "print(\"高瑞夫 - 4110e233\")\n",
        "thislist = [\"pineapple\", \"strawberry\", \"watermelon\", \"wine\", \"xerox\", \"zebra\"]\n",
        "print(thislist[1:])"
      ],
      "metadata": {
        "colab": {
          "base_uri": "https://localhost:8080/"
        },
        "id": "oreXq5-cWfmh",
        "outputId": "41dc8a08-8b4e-447c-e8a6-79afd5ed7db1"
      },
      "execution_count": 11,
      "outputs": [
        {
          "output_type": "stream",
          "name": "stdout",
          "text": [
            "高瑞夫 - 4110e233\n",
            "['strawberry', 'watermelon', 'wine', 'xerox', 'zebra']\n"
          ]
        }
      ]
    },
    {
      "cell_type": "markdown",
      "source": [
        "Range of Negative Indexes"
      ],
      "metadata": {
        "id": "q_6Leh2MW0An"
      }
    },
    {
      "cell_type": "code",
      "source": [
        "print(\"高瑞夫 - 4110e233\")\n",
        "thislist = [\"pineapple\", \"strawberry\", \"watermelon\", \"wine\", \"xerox\", \"zebra\"]\n",
        "print(thislist[-6:-2])"
      ],
      "metadata": {
        "colab": {
          "base_uri": "https://localhost:8080/"
        },
        "id": "2tj80ynQW5aX",
        "outputId": "b5fe5f40-9c6e-4dad-f2af-d188e6113df4"
      },
      "execution_count": 13,
      "outputs": [
        {
          "output_type": "stream",
          "name": "stdout",
          "text": [
            "高瑞夫 - 4110e233\n",
            "['pineapple', 'strawberry', 'watermelon', 'wine']\n"
          ]
        }
      ]
    },
    {
      "cell_type": "markdown",
      "source": [
        "Check if Item Exists"
      ],
      "metadata": {
        "id": "qvbE75hmW_sg"
      }
    },
    {
      "cell_type": "code",
      "source": [
        "print(\"高瑞夫 - 4110e233\")\n",
        "thislist = [\"pineapple\", \"strawberry\", \"watermelon\"]\n",
        "if \"strawberry\" in thislist:\n",
        "  print(\"Yes, 'strawberry' is in the list\")"
      ],
      "metadata": {
        "colab": {
          "base_uri": "https://localhost:8080/"
        },
        "id": "hn8s64WKXB-4",
        "outputId": "ea86f1cd-7ab1-4f38-d21b-14b146e8741c"
      },
      "execution_count": 14,
      "outputs": [
        {
          "output_type": "stream",
          "name": "stdout",
          "text": [
            "高瑞夫 - 4110e233\n",
            "Yes, 'strawberry' is in the list\n"
          ]
        }
      ]
    },
    {
      "cell_type": "markdown",
      "source": [
        "Change List Items"
      ],
      "metadata": {
        "id": "9zItqzajXQe4"
      }
    },
    {
      "cell_type": "markdown",
      "source": [
        "To change the value of a specific item, refer to the index number:"
      ],
      "metadata": {
        "id": "i5nP6OzuXS7g"
      }
    },
    {
      "cell_type": "code",
      "source": [
        "print(\"高瑞夫 - 4110e233\")\n",
        "thislist = [\"pineapple\", \"strawberry\", \"watermelon\"]\n",
        "thislist[0] = \"grapes\"\n",
        "print(thislist)"
      ],
      "metadata": {
        "colab": {
          "base_uri": "https://localhost:8080/"
        },
        "id": "OLzvmpDUXTVo",
        "outputId": "d00f3dff-3f96-4bdd-c42f-b8c3358abb71"
      },
      "execution_count": 15,
      "outputs": [
        {
          "output_type": "stream",
          "name": "stdout",
          "text": [
            "高瑞夫 - 4110e233\n",
            "['grapes', 'strawberry', 'watermelon']\n"
          ]
        }
      ]
    },
    {
      "cell_type": "markdown",
      "source": [
        "Change a Range of Item Values"
      ],
      "metadata": {
        "id": "zoITMeJFXY3b"
      }
    },
    {
      "cell_type": "code",
      "source": [
        "print(\"高瑞夫 - 4110e233\")\n",
        "thislist = [\"pineapple\", \"strawberry\", \"watermelon\", \"wine\", \"xerox\", \"zebra\"]\n",
        "thislist[0:2] = [\"ants\", \"balloon\"]\n",
        "print(thislist)"
      ],
      "metadata": {
        "colab": {
          "base_uri": "https://localhost:8080/"
        },
        "id": "Rdfr1N4RXahI",
        "outputId": "3942af80-95ff-4e42-a17b-d8ad5779adc9"
      },
      "execution_count": 16,
      "outputs": [
        {
          "output_type": "stream",
          "name": "stdout",
          "text": [
            "高瑞夫 - 4110e233\n",
            "['ants', 'balloon', 'watermelon', 'wine', 'xerox', 'zebra']\n"
          ]
        }
      ]
    },
    {
      "cell_type": "markdown",
      "source": [
        "If you insert more items than you replace, the new items will be inserted where you specified, and the remaining items will move accordingly:"
      ],
      "metadata": {
        "id": "fu_RKWe8Xc2p"
      }
    },
    {
      "cell_type": "code",
      "source": [
        "print(\"高瑞夫 - 4110e233\")\n",
        "thislist = [\"pineapple\", \"strawberry\", \"watermelon\"]\n",
        "thislist[0:1] = [\"ants\", \"balloon\"]\n",
        "print(thislist)"
      ],
      "metadata": {
        "colab": {
          "base_uri": "https://localhost:8080/"
        },
        "id": "W8SPtH26Xghx",
        "outputId": "27b79180-4759-4194-fe73-ae9bdfff656f"
      },
      "execution_count": 17,
      "outputs": [
        {
          "output_type": "stream",
          "name": "stdout",
          "text": [
            "高瑞夫 - 4110e233\n",
            "['ants', 'balloon', 'strawberry', 'watermelon']\n"
          ]
        }
      ]
    },
    {
      "cell_type": "markdown",
      "source": [
        "If you insert less items than you replace, the new items will be inserted where you specified, and the remaining items will move accordingly:"
      ],
      "metadata": {
        "id": "THMF8nvRXkvB"
      }
    },
    {
      "cell_type": "code",
      "source": [
        "print(\"高瑞夫 - 4110e233\")\n",
        "thislist = [\"pineapple\", \"strawberry\", \"watermelon\"]\n",
        "thislist[0:3] = [\"fruits\"]\n",
        "print(thislist)"
      ],
      "metadata": {
        "colab": {
          "base_uri": "https://localhost:8080/"
        },
        "id": "GLxbQ3O5Xqkq",
        "outputId": "6452a764-4407-479c-d938-a32aa3d6cebd"
      },
      "execution_count": 18,
      "outputs": [
        {
          "output_type": "stream",
          "name": "stdout",
          "text": [
            "高瑞夫 - 4110e233\n",
            "['fruits']\n"
          ]
        }
      ]
    },
    {
      "cell_type": "markdown",
      "source": [
        "Insert Items"
      ],
      "metadata": {
        "id": "fUikvZwiXu-A"
      }
    },
    {
      "cell_type": "code",
      "source": [
        "print(\"高瑞夫 - 4110e233\")\n",
        "thislist = [\"pineapple\", \"strawberry\", \"watermelon\"]\n",
        "thislist.insert(0, \"fruits\")\n",
        "print(thislist)"
      ],
      "metadata": {
        "colab": {
          "base_uri": "https://localhost:8080/"
        },
        "id": "c-pA0nOXXwmB",
        "outputId": "5bc9f91a-026a-4685-e5bf-5ae252183111"
      },
      "execution_count": 19,
      "outputs": [
        {
          "output_type": "stream",
          "name": "stdout",
          "text": [
            "高瑞夫 - 4110e233\n",
            "['fruits', 'pineapple', 'strawberry', 'watermelon']\n"
          ]
        }
      ]
    },
    {
      "cell_type": "markdown",
      "source": [
        "Add List Items"
      ],
      "metadata": {
        "id": "irPeMg0fX0E4"
      }
    },
    {
      "cell_type": "code",
      "source": [
        "print(\"高瑞夫 - 4110e233\")\n",
        "thislist = [\"pineapple\", \"strawberry\", \"watermelon\"]\n",
        "thislist.append(\"zipper\")\n",
        "print(thislist)"
      ],
      "metadata": {
        "colab": {
          "base_uri": "https://localhost:8080/"
        },
        "id": "Pq2ZbSI4X68T",
        "outputId": "df354f38-d094-4376-bf37-d857cdfd7e4d"
      },
      "execution_count": 20,
      "outputs": [
        {
          "output_type": "stream",
          "name": "stdout",
          "text": [
            "高瑞夫 - 4110e233\n",
            "['pineapple', 'strawberry', 'watermelon', 'zipper']\n"
          ]
        }
      ]
    },
    {
      "cell_type": "markdown",
      "source": [
        "Extend List"
      ],
      "metadata": {
        "id": "_A5PE0qUX9Jq"
      }
    },
    {
      "cell_type": "code",
      "source": [
        "print(\"高瑞夫 - 4110e233\")\n",
        "thislist = [\"pineapple\", \"strawberry\", \"watermelon\"]\n",
        "animallist = [\"chicken\", \"zebra\"]\n",
        "thislist.extend(animallist)\n",
        "print(thislist)\n",
        "# The elements will be added to the end of the list."
      ],
      "metadata": {
        "colab": {
          "base_uri": "https://localhost:8080/"
        },
        "id": "G9J2VpC4YIho",
        "outputId": "c147a4eb-4918-4557-d29b-24b580970e1f"
      },
      "execution_count": 21,
      "outputs": [
        {
          "output_type": "stream",
          "name": "stdout",
          "text": [
            "高瑞夫 - 4110e233\n",
            "['pineapple', 'strawberry', 'watermelon', 'chicken', 'zebra']\n"
          ]
        }
      ]
    },
    {
      "cell_type": "markdown",
      "source": [
        "Remove List Items"
      ],
      "metadata": {
        "id": "TfXZ8OAoYNwJ"
      }
    },
    {
      "cell_type": "markdown",
      "source": [
        "Remove Specified Item"
      ],
      "metadata": {
        "id": "IMHVXvIMYPga"
      }
    },
    {
      "cell_type": "code",
      "source": [
        "print(\"高瑞夫 - 4110e233\")\n",
        "thislist = [\"pineapple\", \"strawberry\", \"watermelon\"]\n",
        "thislist.remove(\"watermelon\")\n",
        "print(thislist)"
      ],
      "metadata": {
        "colab": {
          "base_uri": "https://localhost:8080/"
        },
        "id": "mUE6Zy8lYRMT",
        "outputId": "365662e8-7531-4f88-9099-78121a73303d"
      },
      "execution_count": 22,
      "outputs": [
        {
          "output_type": "stream",
          "name": "stdout",
          "text": [
            "高瑞夫 - 4110e233\n",
            "['pineapple', 'strawberry']\n"
          ]
        }
      ]
    },
    {
      "cell_type": "markdown",
      "source": [
        "Remove Specified Index"
      ],
      "metadata": {
        "id": "bWwrvCyHYiXK"
      }
    },
    {
      "cell_type": "code",
      "source": [
        "print(\"高瑞夫 - 4110e233\")\n",
        "thislist = [\"pineapple\", \"strawberry\", \"watermelon\"]\n",
        "thislist.pop(2)\n",
        "print(thislist)"
      ],
      "metadata": {
        "colab": {
          "base_uri": "https://localhost:8080/"
        },
        "id": "UCiGXN4RYj6p",
        "outputId": "aa43ed3d-a301-4cde-bedd-8263fafe12a1"
      },
      "execution_count": 23,
      "outputs": [
        {
          "output_type": "stream",
          "name": "stdout",
          "text": [
            "高瑞夫 - 4110e233\n",
            "['pineapple', 'strawberry']\n"
          ]
        }
      ]
    },
    {
      "cell_type": "markdown",
      "source": [
        "If you do not specify the index, the pop() method removes the last item."
      ],
      "metadata": {
        "id": "4t327BZTYphS"
      }
    },
    {
      "cell_type": "code",
      "source": [
        "print(\"高瑞夫 - 4110e233\")\n",
        "thislist = [\"pineapple\", \"strawberry\", \"watermelon\"]\n",
        "thislist.pop()\n",
        "print(thislist)"
      ],
      "metadata": {
        "colab": {
          "base_uri": "https://localhost:8080/"
        },
        "id": "3rl1rUmiYrCR",
        "outputId": "141b69d9-1e9e-4e5a-decf-6048ff091dd6"
      },
      "execution_count": 24,
      "outputs": [
        {
          "output_type": "stream",
          "name": "stdout",
          "text": [
            "高瑞夫 - 4110e233\n",
            "['pineapple', 'strawberry']\n"
          ]
        }
      ]
    },
    {
      "cell_type": "markdown",
      "source": [
        "The del keyword also removes the specified index:"
      ],
      "metadata": {
        "id": "fSRytBj0Ytxi"
      }
    },
    {
      "cell_type": "code",
      "source": [
        "print(\"高瑞夫 - 4110e233\")\n",
        "thislist = [\"pineapple\", \"strawberry\", \"watermelon\"]\n",
        "del thislist[2]\n",
        "print(thislist)"
      ],
      "metadata": {
        "colab": {
          "base_uri": "https://localhost:8080/"
        },
        "id": "FmFlnKuYYu3x",
        "outputId": "9df33795-a112-4681-95c2-57e2cb2bc0af"
      },
      "execution_count": 25,
      "outputs": [
        {
          "output_type": "stream",
          "name": "stdout",
          "text": [
            "高瑞夫 - 4110e233\n",
            "['pineapple', 'strawberry']\n"
          ]
        }
      ]
    },
    {
      "cell_type": "markdown",
      "source": [
        "The del keyword can also delete the list completely."
      ],
      "metadata": {
        "id": "j7VSE3nuY3qR"
      }
    },
    {
      "cell_type": "code",
      "source": [
        "print(\"高瑞夫 - 4110e233\")\n",
        "thislist = [\"pineapple\", \"strawberry\", \"watermelon\"]\n",
        "del thislist"
      ],
      "metadata": {
        "colab": {
          "base_uri": "https://localhost:8080/"
        },
        "id": "esgmrU17Y5S4",
        "outputId": "485f3729-28a4-42fc-b0a3-37f3658a0abe"
      },
      "execution_count": 26,
      "outputs": [
        {
          "output_type": "stream",
          "name": "stdout",
          "text": [
            "高瑞夫 - 4110e233\n"
          ]
        }
      ]
    },
    {
      "cell_type": "markdown",
      "source": [
        "Clear the List"
      ],
      "metadata": {
        "id": "aEs5ZiUsY87x"
      }
    },
    {
      "cell_type": "code",
      "source": [
        "print(\"高瑞夫 - 4110e233\")\n",
        "thislist = [\"pineapple\", \"strawberry\", \"watermelon\"]\n",
        "thislist.clear()\n",
        "print(thislist)"
      ],
      "metadata": {
        "colab": {
          "base_uri": "https://localhost:8080/"
        },
        "id": "1_WxZUo9Y_UD",
        "outputId": "46dd852b-3105-43de-d788-663de0df331c"
      },
      "execution_count": 27,
      "outputs": [
        {
          "output_type": "stream",
          "name": "stdout",
          "text": [
            "高瑞夫 - 4110e233\n",
            "[]\n"
          ]
        }
      ]
    },
    {
      "cell_type": "markdown",
      "source": [
        "Sort Lists"
      ],
      "metadata": {
        "id": "uYSe6emyZHoR"
      }
    },
    {
      "cell_type": "markdown",
      "source": [
        "Sort List Alphanumerically"
      ],
      "metadata": {
        "id": "2yCnG5GQZMUj"
      }
    },
    {
      "cell_type": "code",
      "source": [
        "print(\"高瑞夫 - 4110e233\")\n",
        "thislist = [\"pineapple\", \"zebra\", \"strawberry\", \"chicken\", \"watermelon\"]\n",
        "thislist.sort()\n",
        "print(thislist)"
      ],
      "metadata": {
        "colab": {
          "base_uri": "https://localhost:8080/"
        },
        "id": "UQTagozWZLla",
        "outputId": "053ec4dc-6f2b-4166-9e51-b576afc5ceee"
      },
      "execution_count": 28,
      "outputs": [
        {
          "output_type": "stream",
          "name": "stdout",
          "text": [
            "高瑞夫 - 4110e233\n",
            "['chicken', 'pineapple', 'strawberry', 'watermelon', 'zebra']\n"
          ]
        }
      ]
    },
    {
      "cell_type": "code",
      "source": [
        "print(\"高瑞夫 - 4110e233\")\n",
        "thislist = [99, 100, 98, 96, 97]\n",
        "thislist.sort()\n",
        "print(thislist)"
      ],
      "metadata": {
        "colab": {
          "base_uri": "https://localhost:8080/"
        },
        "id": "pFSto_cUZJ4C",
        "outputId": "d04fbb95-9baf-4486-8636-fda2478f3e07"
      },
      "execution_count": 29,
      "outputs": [
        {
          "output_type": "stream",
          "name": "stdout",
          "text": [
            "高瑞夫 - 4110e233\n",
            "[96, 97, 98, 99, 100]\n"
          ]
        }
      ]
    },
    {
      "cell_type": "markdown",
      "source": [
        "Sort Descending"
      ],
      "metadata": {
        "id": "im0LJeofZTHC"
      }
    },
    {
      "cell_type": "code",
      "source": [
        "print(\"高瑞夫 - 4110e233\")\n",
        "thislist = [\"pineapple\", \"zebra\", \"strawberry\", \"chicken\", \"watermelon\"]\n",
        "thislist.sort(reverse = True)\n",
        "print(thislist)"
      ],
      "metadata": {
        "colab": {
          "base_uri": "https://localhost:8080/"
        },
        "id": "LyFQZKP0ZXZi",
        "outputId": "e6858a00-86d5-48ca-956c-0626d9ecedfe"
      },
      "execution_count": 30,
      "outputs": [
        {
          "output_type": "stream",
          "name": "stdout",
          "text": [
            "高瑞夫 - 4110e233\n",
            "['zebra', 'watermelon', 'strawberry', 'pineapple', 'chicken']\n"
          ]
        }
      ]
    },
    {
      "cell_type": "code",
      "source": [
        "print(\"高瑞夫 - 4110e233\")\n",
        "thislist = [99, 100, 98, 96, 97]\n",
        "thislist.sort(reverse = True)\n",
        "print(thislist)"
      ],
      "metadata": {
        "colab": {
          "base_uri": "https://localhost:8080/"
        },
        "id": "a1hoF9gIZdEy",
        "outputId": "62cf04bb-42ab-47ca-86f6-95b68325b90f"
      },
      "execution_count": 31,
      "outputs": [
        {
          "output_type": "stream",
          "name": "stdout",
          "text": [
            "高瑞夫 - 4110e233\n",
            "[100, 99, 98, 97, 96]\n"
          ]
        }
      ]
    },
    {
      "cell_type": "markdown",
      "source": [
        "Copy Lists"
      ],
      "metadata": {
        "id": "oGG4SFVyZanx"
      }
    },
    {
      "cell_type": "code",
      "source": [
        "print(\"高瑞夫 - 4110e233\")\n",
        "list = [\"pineapple\", \"strawberry\", \"watermelon\"]\n",
        "mylist = list.copy()\n",
        "print(mylist)"
      ],
      "metadata": {
        "colab": {
          "base_uri": "https://localhost:8080/"
        },
        "id": "-2CJgMYIZfgk",
        "outputId": "3d1ec909-e832-412d-a370-2b69f33e0012"
      },
      "execution_count": 32,
      "outputs": [
        {
          "output_type": "stream",
          "name": "stdout",
          "text": [
            "高瑞夫 - 4110e233\n",
            "['pineapple', 'strawberry', 'watermelon']\n"
          ]
        }
      ]
    },
    {
      "cell_type": "markdown",
      "source": [
        "Join Lists"
      ],
      "metadata": {
        "id": "Q7JnSJWeZltU"
      }
    },
    {
      "cell_type": "markdown",
      "source": [
        "Join Two Lists"
      ],
      "metadata": {
        "id": "nawqQCJyaT9K"
      }
    },
    {
      "cell_type": "code",
      "source": [
        "print(\"高瑞夫 - 4110e233\")\n",
        "firstlist = [\"pineapple\", \"strawberry\", \"watermelon\"]\n",
        "secondlist = [True, False]\n",
        "\n",
        "list = firstlist + secondlist\n",
        "print(list)"
      ],
      "metadata": {
        "colab": {
          "base_uri": "https://localhost:8080/"
        },
        "id": "xVb17hcYaP0L",
        "outputId": "b54ee80d-67fa-4f41-966a-130c4f57e02c"
      },
      "execution_count": 37,
      "outputs": [
        {
          "output_type": "stream",
          "name": "stdout",
          "text": [
            "高瑞夫 - 4110e233\n",
            "['pineapple', 'strawberry', 'watermelon', True, False]\n"
          ]
        }
      ]
    },
    {
      "cell_type": "markdown",
      "source": [
        "Another way to join two lists is by appending all the items from secondlist into firstlist, one by one:"
      ],
      "metadata": {
        "id": "TawF-zcdaYMb"
      }
    },
    {
      "cell_type": "code",
      "source": [
        "print(\"高瑞夫 - 4110e233\")\n",
        "firstlist = [\"pineapple\", \"strawberry\", \"watermelon\"]\n",
        "secondlist = [True, False]\n",
        "\n",
        "for x in secondlist:\n",
        "  firstlist.append(x)\n",
        "\n",
        "print(firstlist)"
      ],
      "metadata": {
        "colab": {
          "base_uri": "https://localhost:8080/"
        },
        "id": "WDPCKHlBaZuC",
        "outputId": "53cbdb1d-312d-45d9-83c0-0aa6326e7e9d"
      },
      "execution_count": 38,
      "outputs": [
        {
          "output_type": "stream",
          "name": "stdout",
          "text": [
            "高瑞夫 - 4110e233\n",
            "['pineapple', 'strawberry', 'watermelon', True, False]\n"
          ]
        }
      ]
    },
    {
      "cell_type": "markdown",
      "source": [
        "Or you can use the extend() method, which purpose is to add elements from one list to another list:"
      ],
      "metadata": {
        "id": "Yc9jINoUacWc"
      }
    },
    {
      "cell_type": "code",
      "source": [
        "print(\"高瑞夫 - 4110e233\")\n",
        "firstlist = [\"pineapple\", \"strawberry\", \"watermelon\"]\n",
        "secondlist = [True, False]\n",
        "\n",
        "firstlist.extend(secondlist)\n",
        "print(firstlist)"
      ],
      "metadata": {
        "colab": {
          "base_uri": "https://localhost:8080/"
        },
        "id": "jnI6xINXag6T",
        "outputId": "87bea01f-1fd1-49ea-e1de-87059eeef109"
      },
      "execution_count": 39,
      "outputs": [
        {
          "output_type": "stream",
          "name": "stdout",
          "text": [
            "高瑞夫 - 4110e233\n",
            "['pineapple', 'strawberry', 'watermelon', True, False]\n"
          ]
        }
      ]
    },
    {
      "cell_type": "markdown",
      "source": [
        "List Methods"
      ],
      "metadata": {
        "id": "xQfYZ5h9ai9T"
      }
    },
    {
      "cell_type": "code",
      "source": [
        "print(\"高瑞夫 - 4110e233\")\n",
        "list = [\"pineapple\", \"strawberry\", \"watermelon\"]\n",
        "\n",
        "x = list.count(\"strawberry\")\n",
        "print(x)"
      ],
      "metadata": {
        "colab": {
          "base_uri": "https://localhost:8080/"
        },
        "id": "GPWvF_Udajna",
        "outputId": "758e00e9-57e5-4703-c2ac-49495907996d"
      },
      "execution_count": 40,
      "outputs": [
        {
          "output_type": "stream",
          "name": "stdout",
          "text": [
            "高瑞夫 - 4110e233\n",
            "1\n"
          ]
        }
      ]
    },
    {
      "cell_type": "code",
      "source": [
        "print(\"高瑞夫 - 4110e233\")\n",
        "list = [\"pineapple\", \"strawberry\", \"watermelon\"]\n",
        "\n",
        "x = list.index(\"strawberry\")\n",
        "print(x)"
      ],
      "metadata": {
        "colab": {
          "base_uri": "https://localhost:8080/"
        },
        "id": "R74ZVXgnaj-p",
        "outputId": "099c02b6-15da-4940-ed52-079ec455c87a"
      },
      "execution_count": 41,
      "outputs": [
        {
          "output_type": "stream",
          "name": "stdout",
          "text": [
            "高瑞夫 - 4110e233\n",
            "1\n"
          ]
        }
      ]
    },
    {
      "cell_type": "code",
      "source": [
        "print(\"高瑞夫 - 4110e233\")\n",
        "list1 = [\"pineapple\", \"strawberry\", \"watermelon\"]\n",
        "\n",
        "list1.reverse()\n",
        "\n",
        "print(list1)"
      ],
      "metadata": {
        "colab": {
          "base_uri": "https://localhost:8080/"
        },
        "id": "pNVEC-ogakGa",
        "outputId": "fdbb21bb-4229-4eed-f040-c9c497cbe1c4"
      },
      "execution_count": 42,
      "outputs": [
        {
          "output_type": "stream",
          "name": "stdout",
          "text": [
            "高瑞夫 - 4110e233\n",
            "['watermelon', 'strawberry', 'pineapple']\n"
          ]
        }
      ]
    },
    {
      "cell_type": "code",
      "source": [
        "print(\"高瑞夫 - 4110e233\")\n",
        "list1 = [\"pineapple\", \"strawberry\", \"watermelon\"]\n",
        "\n",
        "print(list1[::-1])"
      ],
      "metadata": {
        "colab": {
          "base_uri": "https://localhost:8080/"
        },
        "id": "yj8-kjMIatOF",
        "outputId": "9c0f4f83-6f72-4fc2-ee40-3ae0c6392253"
      },
      "execution_count": 43,
      "outputs": [
        {
          "output_type": "stream",
          "name": "stdout",
          "text": [
            "高瑞夫 - 4110e233\n",
            "['watermelon', 'strawberry', 'pineapple']\n"
          ]
        }
      ]
    }
  ]
}