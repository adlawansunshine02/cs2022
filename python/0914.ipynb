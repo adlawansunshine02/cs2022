{
  "nbformat": 4,
  "nbformat_minor": 0,
  "metadata": {
    "colab": {
      "provenance": [],
      "collapsed_sections": []
    },
    "kernelspec": {
      "name": "python3",
      "display_name": "Python 3"
    },
    "language_info": {
      "name": "python"
    }
  },
  "cells": [
    {
      "cell_type": "markdown",
      "source": [
        "# 0914 4110E233\n",
        "\n",
        "Python Dictionaries"
      ],
      "metadata": {
        "id": "h5wPloU_oiJP"
      }
    },
    {
      "cell_type": "markdown",
      "source": [
        "Dictionary\n",
        "- Dictionaries are used to store data values in key:value pairs.\n",
        "- A dictionary is a collection which is ordered*, changeable and do not allow duplicates."
      ],
      "metadata": {
        "id": "cPft4iLrt_5r"
      }
    },
    {
      "cell_type": "markdown",
      "source": [
        "As of Python version 3.7, dictionaries are ordered. In Python 3.6 and earlier, dictionaries are unordered."
      ],
      "metadata": {
        "id": "dIKaHTHauDzC"
      }
    },
    {
      "cell_type": "markdown",
      "source": [
        "- Dictionaries are written with curly brackets, and have keys and values:"
      ],
      "metadata": {
        "id": "YwsoZmkLuF7Y"
      }
    },
    {
      "cell_type": "code",
      "execution_count": 3,
      "metadata": {
        "id": "O51hNUMfqkWI",
        "colab": {
          "base_uri": "https://localhost:8080/"
        },
        "outputId": "b270673c-cca6-4f3b-94dc-26e160dfd8d1"
      },
      "outputs": [
        {
          "output_type": "stream",
          "name": "stdout",
          "text": [
            "高瑞夫 - 4110e233\n",
            "{'School': 'KSU', 'Country': 'Taiwan', 'year': 2022}\n"
          ]
        }
      ],
      "source": [
        "print(\"高瑞夫 - 4110e233\")\n",
        "thisdict = {\n",
        "  \"School\": \"KSU\",\n",
        "  \"Country\": \"Taiwan\",\n",
        "  \"year\": 2022\n",
        "}\n",
        "print(thisdict)\n"
      ]
    },
    {
      "cell_type": "markdown",
      "source": [
        "- Dictionary Items\n",
        "  - Dictionary items are ordered, changeable, and does not allow duplicates.\n",
        "  - Dictionary items are presented in key:value pairs, and can be referred to by using the key name."
      ],
      "metadata": {
        "id": "sGRBNgSDozll"
      }
    },
    {
      "cell_type": "code",
      "source": [
        "print(\"高瑞夫 - 4110e233\")\n",
        "thisdict = {\n",
        "  \"School\": \"KSU\",\n",
        "  \"Country\": \"Taiwan\",\n",
        "  \"year\": 2022\n",
        "}\n",
        "print(thisdict[\"year\"])"
      ],
      "metadata": {
        "colab": {
          "base_uri": "https://localhost:8080/"
        },
        "id": "uaS24_F3o4Vl",
        "outputId": "4ccb248e-b85f-466d-dcf7-c160dcc4b86c"
      },
      "execution_count": 4,
      "outputs": [
        {
          "output_type": "stream",
          "name": "stdout",
          "text": [
            "高瑞夫 - 4110e233\n",
            "2022\n"
          ]
        }
      ]
    },
    {
      "cell_type": "markdown",
      "source": [
        "Duplicates Not Allowed\n",
        "- Dictionaries cannot have two items with the same key:"
      ],
      "metadata": {
        "id": "h3mIIdf8o6Qm"
      }
    },
    {
      "cell_type": "code",
      "source": [
        "print(\"高瑞夫 - 4110e233\")\n",
        "thisdict = {\n",
        "  \"School\": \"KSU\",\n",
        "  \"Country\": \"Taiwan\",\n",
        "  \"year\": 2022,\n",
        "  \"year\": 2023\n",
        "}\n",
        "print(thisdict)\n"
      ],
      "metadata": {
        "colab": {
          "base_uri": "https://localhost:8080/"
        },
        "id": "0J3AILVao-sO",
        "outputId": "bb28ecc8-2e4a-4a85-b685-32f2bb21160e"
      },
      "execution_count": 5,
      "outputs": [
        {
          "output_type": "stream",
          "name": "stdout",
          "text": [
            "高瑞夫 - 4110e233\n",
            "{'School': 'KSU', 'Country': 'Taiwan', 'year': 2023}\n"
          ]
        }
      ]
    },
    {
      "cell_type": "markdown",
      "source": [
        "Dictionary Length\n",
        "- To determine how many items a dictionary has, use the len() function:"
      ],
      "metadata": {
        "id": "3QThqRpIo_Sd"
      }
    },
    {
      "cell_type": "code",
      "source": [
        "print(\"高瑞夫 - 4110e233\")\n",
        "thisdict = {\n",
        "  \"School\": \"KSU\",\n",
        "  \"Country\": \"Taiwan\",\n",
        "  \"year\": 2022\n",
        "}\n",
        "print(len(thisdict))"
      ],
      "metadata": {
        "colab": {
          "base_uri": "https://localhost:8080/"
        },
        "id": "T9sQe6JwpC99",
        "outputId": "ef544950-5874-4193-89c8-cc0cae347e73"
      },
      "execution_count": 6,
      "outputs": [
        {
          "output_type": "stream",
          "name": "stdout",
          "text": [
            "高瑞夫 - 4110e233\n",
            "3\n"
          ]
        }
      ]
    },
    {
      "cell_type": "markdown",
      "source": [
        "Dictionary Items - Data Types\n",
        "- The values in dictionary items can be of any data type:"
      ],
      "metadata": {
        "id": "0l0g_ciIpJCG"
      }
    },
    {
      "cell_type": "code",
      "source": [
        "print(\"高瑞夫 - 4110e233\")\n",
        "thisdict = {\n",
        "  \"string\": \"reeyyybb\",\n",
        "  \"int\": 1,\n",
        "  \"boolean\": True,\n",
        "  \"list\": [\"reeeyyybb\", 1, True]\n",
        "}\n",
        "print(thisdict)"
      ],
      "metadata": {
        "colab": {
          "base_uri": "https://localhost:8080/"
        },
        "id": "N5PFcurLpKhv",
        "outputId": "ece74044-0b3d-45da-d545-03630b2d54d0"
      },
      "execution_count": 7,
      "outputs": [
        {
          "output_type": "stream",
          "name": "stdout",
          "text": [
            "高瑞夫 - 4110e233\n",
            "{'string': 'reeyyybb', 'int': 1, 'boolean': True, 'list': ['reeeyyybb', 1, True]}\n"
          ]
        }
      ]
    },
    {
      "cell_type": "markdown",
      "source": [
        "type()\n",
        "- From Python's perspective, dictionaries are defined as objects with the data type 'dict':"
      ],
      "metadata": {
        "id": "U5LfCzcdpLDl"
      }
    },
    {
      "cell_type": "code",
      "source": [
        "print(\"高瑞夫 - 4110e233\")\n",
        "thisdict = {\n",
        "  \"School\": \"KSU\",\n",
        "  \"Country\": \"Taiwan\",\n",
        "  \"year\": 2022\n",
        "}\n",
        "print(type(thisdict))\n"
      ],
      "metadata": {
        "colab": {
          "base_uri": "https://localhost:8080/"
        },
        "id": "lpPl_Y47pM8j",
        "outputId": "b69ecfdd-50a3-474e-fef0-ff30520f1f11"
      },
      "execution_count": 8,
      "outputs": [
        {
          "output_type": "stream",
          "name": "stdout",
          "text": [
            "高瑞夫 - 4110e233\n",
            "<class 'dict'>\n"
          ]
        }
      ]
    },
    {
      "cell_type": "markdown",
      "source": [
        "Access Dictionary Items"
      ],
      "metadata": {
        "id": "wOuMHLlWpPKM"
      }
    },
    {
      "cell_type": "markdown",
      "source": [
        "Accessing Items\n",
        "- You can access the items of a dictionary by referring to its key name, inside square brackets:"
      ],
      "metadata": {
        "id": "-WjXP4Krus8L"
      }
    },
    {
      "cell_type": "code",
      "source": [
        "print(\"高瑞夫 - 4110e233\")\n",
        "thisdict = {\n",
        "  \"School\": \"KSU\",\n",
        "  \"Country\": \"Taiwan\",\n",
        "  \"year\": 2022\n",
        "}\n",
        "print(thisdict[\"Country\"])"
      ],
      "metadata": {
        "colab": {
          "base_uri": "https://localhost:8080/"
        },
        "id": "SVoFL5HNpTYU",
        "outputId": "f8b101c5-7154-45db-c349-8f7173ea0823"
      },
      "execution_count": 9,
      "outputs": [
        {
          "output_type": "stream",
          "name": "stdout",
          "text": [
            "高瑞夫 - 4110e233\n",
            "Taiwan\n"
          ]
        }
      ]
    },
    {
      "cell_type": "markdown",
      "source": [
        "There is also a method called get() that will give you the same result:"
      ],
      "metadata": {
        "id": "Dhwxvy17pVi0"
      }
    },
    {
      "cell_type": "code",
      "source": [
        "print(\"高瑞夫 - 4110e233\")\n",
        "thisdict = {\n",
        "  \"School\": \"KSU\",\n",
        "  \"Country\": \"Taiwan\",\n",
        "  \"year\": 2022\n",
        "}\n",
        "print(thisdict.get(\"Country\"))"
      ],
      "metadata": {
        "colab": {
          "base_uri": "https://localhost:8080/"
        },
        "id": "GT5UiJn3pYeB",
        "outputId": "630ab0be-779d-41cd-9213-feed8b76ca4a"
      },
      "execution_count": 10,
      "outputs": [
        {
          "output_type": "stream",
          "name": "stdout",
          "text": [
            "高瑞夫 - 4110e233\n",
            "Taiwan\n"
          ]
        }
      ]
    },
    {
      "cell_type": "markdown",
      "source": [
        "Get Keys\n",
        "- The keys() method will return a list of all the keys in the dictionary."
      ],
      "metadata": {
        "id": "2iezALnupZzc"
      }
    },
    {
      "cell_type": "markdown",
      "source": [
        "Get Values\n",
        "- The values() method will return a list of all the values in the dictionary."
      ],
      "metadata": {
        "id": "Etj20oVVpmls"
      }
    },
    {
      "cell_type": "markdown",
      "source": [
        "Get Items\n",
        "- The items() method will return each item in a dictionary, as tuples in a list."
      ],
      "metadata": {
        "id": "04QPuR4lpo0M"
      }
    },
    {
      "cell_type": "code",
      "source": [
        "print(\"高瑞夫 - 4110e233\")\n",
        "thisdict = {\n",
        "  \"School\": \"KSU\",\n",
        "  \"Country\": \"Taiwan\",\n",
        "  \"year\": 2022\n",
        "}\n",
        "#before\n",
        "print(thisdict.keys()) #get keys\n",
        "print(thisdict.values()) #get values\n",
        "print(thisdict.items()) #get items\n",
        "\n",
        "thisdict[\"MyName\"] = \"reeeyyybb\"\n",
        "\n",
        "#after\n",
        "print(thisdict.keys())\n",
        "print(thisdict.values())\n",
        "print(thisdict.items()) #before change\n",
        "\n",
        "thisdict[\"year\"] = \"2023\"\n",
        "\n",
        "print(thisdict.items()) #after change"
      ],
      "metadata": {
        "colab": {
          "base_uri": "https://localhost:8080/"
        },
        "id": "KVCPysxxppR9",
        "outputId": "1c55fee0-25e1-4b0f-e6f5-54e324e77259"
      },
      "execution_count": 11,
      "outputs": [
        {
          "output_type": "stream",
          "name": "stdout",
          "text": [
            "高瑞夫 - 4110e233\n",
            "dict_keys(['School', 'Country', 'year'])\n",
            "dict_values(['KSU', 'Taiwan', 2022])\n",
            "dict_items([('School', 'KSU'), ('Country', 'Taiwan'), ('year', 2022)])\n",
            "dict_keys(['School', 'Country', 'year', 'MyName'])\n",
            "dict_values(['KSU', 'Taiwan', 2022, 'reeeyyybb'])\n",
            "dict_items([('School', 'KSU'), ('Country', 'Taiwan'), ('year', 2022), ('MyName', 'reeeyyybb')])\n",
            "dict_items([('School', 'KSU'), ('Country', 'Taiwan'), ('year', '2023'), ('MyName', 'reeeyyybb')])\n"
          ]
        }
      ]
    },
    {
      "cell_type": "markdown",
      "source": [
        "Check if Key Exists\n",
        "- To determine if a specified key is present in a dictionary use the in keyword:"
      ],
      "metadata": {
        "id": "aldD8pBDprUm"
      }
    },
    {
      "cell_type": "code",
      "source": [
        "print(\"高瑞夫 - 4110e233\")\n",
        "thisdict = {\n",
        "  \"School\": \"KSU\",\n",
        "  \"Country\": \"Taiwan\",\n",
        "  \"year\": 2022\n",
        "}\n",
        "if \"Country\" in thisdict:\n",
        "  print(\"Yes, 'country' is one of the keys in the thisdict dictionary\")"
      ],
      "metadata": {
        "colab": {
          "base_uri": "https://localhost:8080/"
        },
        "id": "UUijXWYepuA8",
        "outputId": "6ec86876-223f-435c-9b6e-66a42fa4d2f4"
      },
      "execution_count": 12,
      "outputs": [
        {
          "output_type": "stream",
          "name": "stdout",
          "text": [
            "高瑞夫 - 4110e233\n",
            "Yes, 'country' is one of the keys in the thisdict dictionary\n"
          ]
        }
      ]
    },
    {
      "cell_type": "markdown",
      "source": [
        "Change Dictionary Items"
      ],
      "metadata": {
        "id": "_ZnKm4bzvEaB"
      }
    },
    {
      "cell_type": "markdown",
      "source": [
        "Change Values\n",
        "- You can change the value of a specific item by referring to its key name:"
      ],
      "metadata": {
        "id": "PaZkwlJZpxIF"
      }
    },
    {
      "cell_type": "code",
      "source": [
        "print(\"高瑞夫 - 4110e233\")\n",
        "thisdict = {\n",
        "  \"School\": \"KSU\",\n",
        "  \"Country\": \"Taiwan\",\n",
        "  \"year\": 2022\n",
        "}\n",
        "thisdict[\"year\"] = 2023\n",
        "print(thisdict)"
      ],
      "metadata": {
        "colab": {
          "base_uri": "https://localhost:8080/"
        },
        "id": "5xiUrDkjp00d",
        "outputId": "9a47a0d2-a758-4fc0-da89-7b562b3af2c7"
      },
      "execution_count": 13,
      "outputs": [
        {
          "output_type": "stream",
          "name": "stdout",
          "text": [
            "高瑞夫 - 4110e233\n",
            "{'School': 'KSU', 'Country': 'Taiwan', 'year': 2023}\n"
          ]
        }
      ]
    },
    {
      "cell_type": "markdown",
      "source": [
        "Update Dictionary\n",
        "- The update() method will update the dictionary with the items from the given argument.\n",
        "- The argument must be a dictionary, or an iterable object with key:value pairs."
      ],
      "metadata": {
        "id": "KERJbiohp3s-"
      }
    },
    {
      "cell_type": "code",
      "source": [
        "print(\"高瑞夫 - 4110e233\")\n",
        "thisdict = {\n",
        "  \"School\": \"KSU\",\n",
        "  \"Country\": \"Taiwan\",\n",
        "  \"year\": 2022\n",
        "}\n",
        "thisdict.update({\"year\": 2023})\n",
        "print(thisdict)"
      ],
      "metadata": {
        "colab": {
          "base_uri": "https://localhost:8080/"
        },
        "id": "R1Tn_8QKp6Wl",
        "outputId": "720c25f8-ee57-450c-a91b-c623d5ddb358"
      },
      "execution_count": 14,
      "outputs": [
        {
          "output_type": "stream",
          "name": "stdout",
          "text": [
            "高瑞夫 - 4110e233\n",
            "{'School': 'KSU', 'Country': 'Taiwan', 'year': 2023}\n"
          ]
        }
      ]
    },
    {
      "cell_type": "markdown",
      "source": [
        "Add Dictionary Items"
      ],
      "metadata": {
        "id": "KPSQQ3gvvQWo"
      }
    },
    {
      "cell_type": "markdown",
      "source": [
        "Adding Items\n",
        "- Adding an item to the dictionary is done by using a new index key and assigning a value to it:"
      ],
      "metadata": {
        "id": "s_Gm5KM3p8M3"
      }
    },
    {
      "cell_type": "markdown",
      "source": [
        "Update Dictionary\n",
        "- The update() method will update the dictionary with the items from a given argument. If the item does not exist, the item will be added.\n",
        "- The argument must be a dictionary, or an iterable object with key:value pairs."
      ],
      "metadata": {
        "id": "I3QQR-W4p_wf"
      }
    },
    {
      "cell_type": "code",
      "source": [
        "print(\"高瑞夫 - 4110e233\")\n",
        "thisdict = {\n",
        "  \"School\": \"KSU\",\n",
        "  \"Country\": \"Taiwan\",\n",
        "  \"year\": 2022\n",
        "}\n",
        "\n",
        "thisdict[\"height\"] = 168 #adding an item\n",
        "thisdict.update({\"weight\": \"68\"}) #using update()\n",
        "thisdict.update({\"BMI\": \"24.1\"})\n",
        "print(thisdict)"
      ],
      "metadata": {
        "colab": {
          "base_uri": "https://localhost:8080/"
        },
        "id": "ifq56AMCqn2_",
        "outputId": "1659b0e0-662c-4e32-a3ca-7c8ac7a5a015"
      },
      "execution_count": 15,
      "outputs": [
        {
          "output_type": "stream",
          "name": "stdout",
          "text": [
            "高瑞夫 - 4110e233\n",
            "{'School': 'KSU', 'Country': 'Taiwan', 'year': 2022, 'height': 168, 'weight': '68', 'BMI': '24.1'}\n"
          ]
        }
      ]
    },
    {
      "cell_type": "markdown",
      "source": [
        "Remove Dictionary Items"
      ],
      "metadata": {
        "id": "Z__eANT7vUmY"
      }
    },
    {
      "cell_type": "markdown",
      "source": [
        "Removing Items\n",
        "- There are several methods to remove items from a dictionary:"
      ],
      "metadata": {
        "id": "6CR5BOExqoe9"
      }
    },
    {
      "cell_type": "markdown",
      "source": [
        "The pop() method removes the item with the specified key name:"
      ],
      "metadata": {
        "id": "U1nT3bsKqsK1"
      }
    },
    {
      "cell_type": "code",
      "source": [
        "print(\"高瑞夫 - 4110e233\")\n",
        "thisdict = {\n",
        "  \"string\": \"reeeyyybb\",\n",
        "  \"int\": 1,\n",
        "  \"boolean\": True,\n",
        "  \"list\": [\"Hello\", 2, False]\n",
        "}\n",
        "\n",
        "thisdict.pop(\"string\")\n",
        "print(thisdict)"
      ],
      "metadata": {
        "colab": {
          "base_uri": "https://localhost:8080/"
        },
        "id": "eLf6-4sCqueY",
        "outputId": "53721ce5-9af8-41c7-ec06-dd384f6bd3cf"
      },
      "execution_count": 16,
      "outputs": [
        {
          "output_type": "stream",
          "name": "stdout",
          "text": [
            "高瑞夫 - 4110e233\n",
            "{'int': 1, 'boolean': True, 'list': ['Hello', 2, False]}\n"
          ]
        }
      ]
    },
    {
      "cell_type": "markdown",
      "source": [
        "The popitem() method removes the last inserted item (in versions before 3.7, a random item is removed instead):"
      ],
      "metadata": {
        "id": "1hEl01dxqwVq"
      }
    },
    {
      "cell_type": "code",
      "source": [
        "print(\"高瑞夫 - 4110e233\")\n",
        "thisdict = {\n",
        "  \"string\": \"reeeyyybb\",\n",
        "  \"int\": 1,\n",
        "  \"boolean\": True,\n",
        "  \"list\": [\"Hello\", 2, False]\n",
        "}\n",
        "\n",
        "thisdict.popitem()\n",
        "print(thisdict)"
      ],
      "metadata": {
        "colab": {
          "base_uri": "https://localhost:8080/"
        },
        "id": "0ZLb8J3cqyWe",
        "outputId": "95b41edf-f7b9-467f-ac37-d23e6415b828"
      },
      "execution_count": 17,
      "outputs": [
        {
          "output_type": "stream",
          "name": "stdout",
          "text": [
            "高瑞夫 - 4110e233\n",
            "{'string': 'reeeyyybb', 'int': 1, 'boolean': True}\n"
          ]
        }
      ]
    },
    {
      "cell_type": "markdown",
      "source": [
        "The del keyword removes the item with the specified key name:"
      ],
      "metadata": {
        "id": "5ls8vBW-q0IC"
      }
    },
    {
      "cell_type": "code",
      "source": [
        "print(\"高瑞夫 - 4110e233\")\n",
        "thisdict = {\n",
        "  \"string\": \"reeeyyybb\",\n",
        "  \"int\": 1,\n",
        "  \"boolean\": True,\n",
        "  \"list\": [\"Hello\", 2, False]\n",
        "}\n",
        "\n",
        "del thisdict[\"int\"]\n",
        "print(thisdict)"
      ],
      "metadata": {
        "colab": {
          "base_uri": "https://localhost:8080/"
        },
        "id": "RmzfTdm5q19O",
        "outputId": "419d517c-56f6-41d0-8cac-17caa5b25d04"
      },
      "execution_count": 18,
      "outputs": [
        {
          "output_type": "stream",
          "name": "stdout",
          "text": [
            "高瑞夫 - 4110e233\n",
            "{'string': 'reeeyyybb', 'boolean': True, 'list': ['Hello', 2, False]}\n"
          ]
        }
      ]
    },
    {
      "cell_type": "markdown",
      "source": [
        "The del keyword can also delete the dictionary completely:"
      ],
      "metadata": {
        "id": "1zot7OTZq3jt"
      }
    },
    {
      "cell_type": "code",
      "source": [
        "print(\"高瑞夫 - 4110e233\")\n",
        "thisdict = {\n",
        "  \"string\": \"reeeyyybb\",\n",
        "  \"int\": 1,\n",
        "  \"boolean\": True,\n",
        "  \"list\": [\"Hello\", 2, False]\n",
        "}\n",
        "\n",
        "del thisdict\n",
        "print(thisdict)\n",
        "#the \"thisdict\" dictionary will be no longer exist."
      ],
      "metadata": {
        "colab": {
          "base_uri": "https://localhost:8080/",
          "height": 235
        },
        "id": "OIWzmJ_Jq5dO",
        "outputId": "6bc1dff9-dfdf-4bc7-a13f-d89297dbddd4"
      },
      "execution_count": 19,
      "outputs": [
        {
          "output_type": "stream",
          "name": "stdout",
          "text": [
            "高瑞夫 - 4110e233\n"
          ]
        },
        {
          "output_type": "error",
          "ename": "NameError",
          "evalue": "ignored",
          "traceback": [
            "\u001b[0;31m---------------------------------------------------------------------------\u001b[0m",
            "\u001b[0;31mNameError\u001b[0m                                 Traceback (most recent call last)",
            "\u001b[0;32m<ipython-input-19-ae6aadb9e828>\u001b[0m in \u001b[0;36m<module>\u001b[0;34m\u001b[0m\n\u001b[1;32m      8\u001b[0m \u001b[0;34m\u001b[0m\u001b[0m\n\u001b[1;32m      9\u001b[0m \u001b[0;32mdel\u001b[0m \u001b[0mthisdict\u001b[0m\u001b[0;34m\u001b[0m\u001b[0;34m\u001b[0m\u001b[0m\n\u001b[0;32m---> 10\u001b[0;31m \u001b[0mprint\u001b[0m\u001b[0;34m(\u001b[0m\u001b[0mthisdict\u001b[0m\u001b[0;34m)\u001b[0m\u001b[0;34m\u001b[0m\u001b[0;34m\u001b[0m\u001b[0m\n\u001b[0m\u001b[1;32m     11\u001b[0m \u001b[0;31m#the \"thisdict\" dictionary will be no longer exist.\u001b[0m\u001b[0;34m\u001b[0m\u001b[0;34m\u001b[0m\u001b[0;34m\u001b[0m\u001b[0m\n",
            "\u001b[0;31mNameError\u001b[0m: name 'thisdict' is not defined"
          ]
        }
      ]
    },
    {
      "cell_type": "markdown",
      "source": [
        "The clear() method empties the dictionary:"
      ],
      "metadata": {
        "id": "3rlGJ_OMq8Tm"
      }
    },
    {
      "cell_type": "code",
      "source": [
        "print(\"高瑞夫 - 4110e233\")\n",
        "thisdict = {\n",
        "  \"string\": \"reeeyyybb\",\n",
        "  \"int\": 1,\n",
        "  \"boolean\": True,\n",
        "  \"list\": [\"Hello\", 2, False]\n",
        "}\n",
        "\n",
        "thisdict.clear()\n",
        "print(thisdict)"
      ],
      "metadata": {
        "colab": {
          "base_uri": "https://localhost:8080/"
        },
        "id": "f3dfd7Riq9lB",
        "outputId": "52603017-e877-4218-fed6-bb8974739dab"
      },
      "execution_count": 20,
      "outputs": [
        {
          "output_type": "stream",
          "name": "stdout",
          "text": [
            "高瑞夫 - 4110e233\n",
            "{}\n"
          ]
        }
      ]
    },
    {
      "cell_type": "markdown",
      "source": [
        "Copy Dictionaries"
      ],
      "metadata": {
        "id": "R7rlkxLRvl7v"
      }
    },
    {
      "cell_type": "markdown",
      "source": [
        "Copy a Dictionary\n",
        "- You cannot copy a dictionary simply by typing seconddict = firstdict, because: seconddict will only be a reference to firstdict, and changes made in firstdict will automatically also be made in seconddict."
      ],
      "metadata": {
        "id": "i58p_1_2rA9Y"
      }
    },
    {
      "cell_type": "code",
      "source": [
        "print(\"高瑞夫 - 4110e233\")\n",
        "firstdict = {\n",
        "  \"School\": \"KSU\",\n",
        "  \"Country\": \"Taiwan\",\n",
        "  \"year\": 2022\n",
        "}\n",
        "print(firstdict)\n",
        "seconddict = firstdict\n",
        "print(seconddict)\n",
        "seconddict.update({\"year\": 2023})\n",
        "print(firstdict)"
      ],
      "metadata": {
        "colab": {
          "base_uri": "https://localhost:8080/"
        },
        "id": "KThzWJm7rI3e",
        "outputId": "dac11c12-d711-437e-d0d3-2a4a8d761caf"
      },
      "execution_count": 21,
      "outputs": [
        {
          "output_type": "stream",
          "name": "stdout",
          "text": [
            "高瑞夫 - 4110e233\n",
            "{'School': 'KSU', 'Country': 'Taiwan', 'year': 2022}\n",
            "{'School': 'KSU', 'Country': 'Taiwan', 'year': 2022}\n",
            "{'School': 'KSU', 'Country': 'Taiwan', 'year': 2023}\n"
          ]
        }
      ]
    },
    {
      "cell_type": "markdown",
      "source": [
        "- There are ways to make a copy, one way is to use the built-in Dictionary method copy()."
      ],
      "metadata": {
        "id": "Notan11YrJa3"
      }
    },
    {
      "cell_type": "code",
      "source": [
        "print(\"高瑞夫 - 4110e233\")\n",
        "firstdict = {\n",
        "  \"School\": \"KSU\",\n",
        "  \"Country\": \"Taiwan\",\n",
        "  \"year\": 2022\n",
        "}\n",
        "print(firstdict)\n",
        "seconddict = firstdict.copy()\n",
        "print(seconddict)\n",
        "seconddict.update({\"year\": 2023})\n",
        "print(seconddict)\n",
        "print(firstdict)"
      ],
      "metadata": {
        "colab": {
          "base_uri": "https://localhost:8080/"
        },
        "id": "4xCQxlkdrNUe",
        "outputId": "27784232-931b-4aac-bf0d-2ddfd0708ef9"
      },
      "execution_count": 23,
      "outputs": [
        {
          "output_type": "stream",
          "name": "stdout",
          "text": [
            "高瑞夫 - 4110e233\n",
            "{'School': 'KSU', 'Country': 'Taiwan', 'year': 2022}\n",
            "{'School': 'KSU', 'Country': 'Taiwan', 'year': 2022}\n",
            "{'School': 'KSU', 'Country': 'Taiwan', 'year': 2023}\n",
            "{'School': 'KSU', 'Country': 'Taiwan', 'year': 2022}\n"
          ]
        }
      ]
    },
    {
      "cell_type": "markdown",
      "source": [
        "- Another way to make a copy is to use the built-in function dict()."
      ],
      "metadata": {
        "id": "ujQW2IbRrPGN"
      }
    },
    {
      "cell_type": "code",
      "source": [
        "print(\"高瑞夫 - 4110e233\")\n",
        "firstdict = {\n",
        "  \"School\": \"KSU\",\n",
        "  \"Country\": \"Taiwan\",\n",
        "  \"year\": 2022\n",
        "}\n",
        "print(firstdict)\n",
        "seconddict = dict(firstdict)\n",
        "print(seconddict)\n",
        "seconddict.update({\"year\": 2023})\n",
        "print(seconddict)\n",
        "print(firstdict)"
      ],
      "metadata": {
        "colab": {
          "base_uri": "https://localhost:8080/"
        },
        "id": "M8ixD_edrRsQ",
        "outputId": "0786b0a7-7a3f-4e23-d46f-53d9ed7c539d"
      },
      "execution_count": 24,
      "outputs": [
        {
          "output_type": "stream",
          "name": "stdout",
          "text": [
            "高瑞夫 - 4110e233\n",
            "{'School': 'KSU', 'Country': 'Taiwan', 'year': 2022}\n",
            "{'School': 'KSU', 'Country': 'Taiwan', 'year': 2022}\n",
            "{'School': 'KSU', 'Country': 'Taiwan', 'year': 2023}\n",
            "{'School': 'KSU', 'Country': 'Taiwan', 'year': 2022}\n"
          ]
        }
      ]
    },
    {
      "cell_type": "markdown",
      "source": [
        "Nested Dictionaries"
      ],
      "metadata": {
        "id": "1WNDmVMlrTYG"
      }
    },
    {
      "cell_type": "markdown",
      "source": [
        "A dictionary can contain dictionaries, this is called nested dictionaries."
      ],
      "metadata": {
        "id": "8T9aeJTav3Rx"
      }
    },
    {
      "cell_type": "markdown",
      "source": [
        "Create a Nested Dictionary\n",
        "- A nested dictionary is created the same way a normal dictionary is created. The only difference is that each value is another dictionary."
      ],
      "metadata": {
        "id": "xJnfIIMHrWqN"
      }
    },
    {
      "cell_type": "code",
      "source": [
        "print(\"高瑞夫 - 4110e233\")\n",
        "D = {'student1': {'name': 'Juan', 'number': '1'},\n",
        "     'student2': {'name': 'Crisostomo', 'number': '2'},\n",
        "     'student3': {'name': 'Simoun', 'number': '3'}}"
      ],
      "metadata": {
        "colab": {
          "base_uri": "https://localhost:8080/"
        },
        "id": "HYz9LsphrjRw",
        "outputId": "5597ddfa-10f6-47a3-c0a1-0255c5abaaea"
      },
      "execution_count": 25,
      "outputs": [
        {
          "output_type": "stream",
          "name": "stdout",
          "text": [
            "高瑞夫 - 4110e233\n"
          ]
        }
      ]
    },
    {
      "cell_type": "markdown",
      "source": [
        "The dict() Constructor\n",
        "- There are several ways to create a nested dictionary using a type constructor called dict().\n",
        "- To create a nested dictionary, simply pass dictionary key:value pair as keyword arguments to dict() Constructor."
      ],
      "metadata": {
        "id": "vzZ-L9vErj-v"
      }
    },
    {
      "cell_type": "code",
      "source": [
        "print(\"高瑞夫 - 4110e233\")\n",
        "D = dict(student1= {'name': 'Juan', 'number': '1'},\n",
        "     student2= {'name': 'Crisostomo', 'number': '2'},\n",
        "     student3= {'name': 'Simoun', 'number': '3'})\n",
        "print(D)"
      ],
      "metadata": {
        "colab": {
          "base_uri": "https://localhost:8080/"
        },
        "id": "5hIdZ---rooX",
        "outputId": "c3fd1dee-e4a0-426a-ead0-32ac2af74afc"
      },
      "execution_count": 26,
      "outputs": [
        {
          "output_type": "stream",
          "name": "stdout",
          "text": [
            "高瑞夫 - 4110e233\n",
            "{'student1': {'name': 'Juan', 'number': '1'}, 'student2': {'name': 'Crisostomo', 'number': '2'}, 'student3': {'name': 'Simoun', 'number': '3'}}\n"
          ]
        }
      ]
    },
    {
      "cell_type": "markdown",
      "source": [
        "You can use dict() function along with the zip() function, to combine separate lists of keys and values obtained dynamically at runtime."
      ],
      "metadata": {
        "id": "PzFayvK0rqLe"
      }
    },
    {
      "cell_type": "code",
      "source": [
        "print(\"高瑞夫 - 4110e233\")\n",
        "IDs = ['student1','student2','studet3']\n",
        "\n",
        "StudentInfo = [{'name': 'Juan', 'number': '1'},\n",
        "           {'name': 'Crisostomo', 'number': '2'},\n",
        "           {'name': 'Simoun', 'number': '3'}]\n",
        "\n",
        "D = dict(zip(IDs, StudentInfo))\n",
        "\n",
        "print(D)"
      ],
      "metadata": {
        "colab": {
          "base_uri": "https://localhost:8080/"
        },
        "id": "tRF_iVbBrsLw",
        "outputId": "5da84563-16d3-4779-8f3c-39d9eb88c386"
      },
      "execution_count": 27,
      "outputs": [
        {
          "output_type": "stream",
          "name": "stdout",
          "text": [
            "高瑞夫 - 4110e233\n",
            "{'student1': {'name': 'Juan', 'number': '1'}, 'student2': {'name': 'Crisostomo', 'number': '2'}, 'studet3': {'name': 'Simoun', 'number': '3'}}\n"
          ]
        }
      ]
    },
    {
      "cell_type": "markdown",
      "source": [
        "You’ll often want to create a dictionary with default values for each key. The fromkeys() method offers a way to do this."
      ],
      "metadata": {
        "id": "n_-YSO_Xrt8G"
      }
    },
    {
      "cell_type": "code",
      "source": [
        "print(\"高瑞夫 - 4110e233\")\n",
        "IDs = ['student1','student2','student3']\n",
        "Defaults = {'name': '', 'number': '', 'school': 'KSU'}\n",
        "\n",
        "D = dict.fromkeys(IDs, Defaults)\n",
        "\n",
        "print(D)"
      ],
      "metadata": {
        "colab": {
          "base_uri": "https://localhost:8080/"
        },
        "id": "nwmGYZA0rvqw",
        "outputId": "f1fc0896-8c95-4cfb-ac91-5f544a8ff26f"
      },
      "execution_count": 28,
      "outputs": [
        {
          "output_type": "stream",
          "name": "stdout",
          "text": [
            "高瑞夫 - 4110e233\n",
            "{'student1': {'name': '', 'number': '', 'school': 'KSU'}, 'student2': {'name': '', 'number': '', 'school': 'KSU'}, 'student3': {'name': '', 'number': '', 'school': 'KSU'}}\n"
          ]
        }
      ]
    },
    {
      "cell_type": "markdown",
      "source": [
        "Access Nested Dictionary Items\n",
        "- You can access individual items in a nested dictionary by specifying key in multiple square brackets."
      ],
      "metadata": {
        "id": "8itpkHAbrxeY"
      }
    },
    {
      "cell_type": "code",
      "source": [
        "print(\"高瑞夫 - 4110e233\")\n",
        "D = {'student1': {'name': 'Juan', 'number': '1'},\n",
        "     'student2': {'name': 'Crisostomo', 'number': '2'},\n",
        "     'student3': {'name': 'Simoun', 'number': '3'}}\n",
        "\n",
        "print(D['student1']['name'])\n",
        "print(D['student2']['number'])"
      ],
      "metadata": {
        "colab": {
          "base_uri": "https://localhost:8080/"
        },
        "id": "mvivuvLKsCNo",
        "outputId": "e78e671c-49d4-4859-9848-a004360891b2"
      },
      "execution_count": 29,
      "outputs": [
        {
          "output_type": "stream",
          "name": "stdout",
          "text": [
            "高瑞夫 - 4110e233\n",
            "Juan\n",
            "2\n"
          ]
        }
      ]
    },
    {
      "cell_type": "markdown",
      "source": [
        "If you refer to a key that is not in the nested dictionary, an exception is raised."
      ],
      "metadata": {
        "id": "oRRQdLt4sG6g"
      }
    },
    {
      "cell_type": "code",
      "source": [
        "print(\"高瑞夫 - 4110e233\")\n",
        "D = {'student1': {'name': 'Juan', 'number': '1'},\n",
        "     'student2': {'name': 'Crisostomo', 'number': '2'},\n",
        "     'student3': {'name': 'Simoun', 'number': '3'}}\n",
        "\n",
        "print(D['student1']['name'])\n",
        "print(D['student2']['number'])\n",
        "print(D['student3']['age']) #KeyError"
      ],
      "metadata": {
        "colab": {
          "base_uri": "https://localhost:8080/",
          "height": 252
        },
        "id": "e2YdqArasHxJ",
        "outputId": "ef476137-0712-402a-fcf4-7dd85593f3b9"
      },
      "execution_count": 30,
      "outputs": [
        {
          "output_type": "stream",
          "name": "stdout",
          "text": [
            "高瑞夫 - 4110e233\n",
            "Juan\n",
            "2\n"
          ]
        },
        {
          "output_type": "error",
          "ename": "KeyError",
          "evalue": "ignored",
          "traceback": [
            "\u001b[0;31m---------------------------------------------------------------------------\u001b[0m",
            "\u001b[0;31mKeyError\u001b[0m                                  Traceback (most recent call last)",
            "\u001b[0;32m<ipython-input-30-d51892fdb7b0>\u001b[0m in \u001b[0;36m<module>\u001b[0;34m\u001b[0m\n\u001b[1;32m      6\u001b[0m \u001b[0mprint\u001b[0m\u001b[0;34m(\u001b[0m\u001b[0mD\u001b[0m\u001b[0;34m[\u001b[0m\u001b[0;34m'student1'\u001b[0m\u001b[0;34m]\u001b[0m\u001b[0;34m[\u001b[0m\u001b[0;34m'name'\u001b[0m\u001b[0;34m]\u001b[0m\u001b[0;34m)\u001b[0m\u001b[0;34m\u001b[0m\u001b[0;34m\u001b[0m\u001b[0m\n\u001b[1;32m      7\u001b[0m \u001b[0mprint\u001b[0m\u001b[0;34m(\u001b[0m\u001b[0mD\u001b[0m\u001b[0;34m[\u001b[0m\u001b[0;34m'student2'\u001b[0m\u001b[0;34m]\u001b[0m\u001b[0;34m[\u001b[0m\u001b[0;34m'number'\u001b[0m\u001b[0;34m]\u001b[0m\u001b[0;34m)\u001b[0m\u001b[0;34m\u001b[0m\u001b[0;34m\u001b[0m\u001b[0m\n\u001b[0;32m----> 8\u001b[0;31m \u001b[0mprint\u001b[0m\u001b[0;34m(\u001b[0m\u001b[0mD\u001b[0m\u001b[0;34m[\u001b[0m\u001b[0;34m'student3'\u001b[0m\u001b[0;34m]\u001b[0m\u001b[0;34m[\u001b[0m\u001b[0;34m'age'\u001b[0m\u001b[0;34m]\u001b[0m\u001b[0;34m)\u001b[0m \u001b[0;31m#KeyError\u001b[0m\u001b[0;34m\u001b[0m\u001b[0;34m\u001b[0m\u001b[0m\n\u001b[0m",
            "\u001b[0;31mKeyError\u001b[0m: 'age'"
          ]
        }
      ]
    },
    {
      "cell_type": "markdown",
      "source": [
        "To avoid such exception, you can use the special dictionary get() method. This method returns the value for key if key is in the dictionary, else None, so that this method never raises a KeyError."
      ],
      "metadata": {
        "id": "_qtZoHwzsJMm"
      }
    },
    {
      "cell_type": "code",
      "source": [
        "print(\"高瑞夫 - 4110e233\")\n",
        "D = {'student1': {'name': 'Juan', 'number': '1'},\n",
        "     'student2': {'name': 'Crisostomo', 'number': '2'},\n",
        "     'student3': {'name': 'Simoun', 'number': '3'}}\n",
        "\n",
        "print(D['student1'].get('name'))\n",
        "print(D['student2'].get('number'))\n",
        "print(D['student3'].get('age')) #prints None"
      ],
      "metadata": {
        "colab": {
          "base_uri": "https://localhost:8080/"
        },
        "id": "WYSupeKnsLQH",
        "outputId": "a56960aa-8bc1-4da8-d566-fc068c3a4e3f"
      },
      "execution_count": 31,
      "outputs": [
        {
          "output_type": "stream",
          "name": "stdout",
          "text": [
            "高瑞夫 - 4110e233\n",
            "Juan\n",
            "2\n",
            "None\n"
          ]
        }
      ]
    },
    {
      "cell_type": "markdown",
      "source": [
        "Change Nested Dictionary Items\n",
        "- To change the value of a specific item in a nested dictionary, refer to its key."
      ],
      "metadata": {
        "id": "Nj7a0uK4sNRx"
      }
    },
    {
      "cell_type": "code",
      "source": [
        "print(\"高瑞夫 - 4110e233\")\n",
        "D = {'student1': {'name': 'Juan', 'number': '1'},\n",
        "     'student2': {'name': 'Crisostomo', 'number': '2'},\n",
        "     'student3': {'name': 'Simoun', 'number': '3'}}\n",
        "\n",
        "D['student1']['name'] = 'Reyb'\n",
        "D['student1']['number'] = '999'\n",
        "\n",
        "print(D['student1'])"
      ],
      "metadata": {
        "colab": {
          "base_uri": "https://localhost:8080/"
        },
        "id": "41QCuo4rsPOz",
        "outputId": "cada594c-ea96-40cd-9783-9e8a77bf781b"
      },
      "execution_count": 32,
      "outputs": [
        {
          "output_type": "stream",
          "name": "stdout",
          "text": [
            "高瑞夫 - 4110e233\n",
            "{'name': 'Reyb', 'number': '999'}\n"
          ]
        }
      ]
    },
    {
      "cell_type": "markdown",
      "source": [
        "Add or Update Nested Dictionary Items\n",
        "- Adding or updating nested dictionary items is easy. Just refer to the item by its key and assign a value. If the key is already present in the dictionary, its value is replaced by the new one."
      ],
      "metadata": {
        "id": "wpcJIPDWsRN5"
      }
    },
    {
      "cell_type": "code",
      "source": [
        "print(\"高瑞夫 - 4110e233\")\n",
        "D = {'student1': {'name': 'Juan', 'number': '1'},\n",
        "     'student2': {'name': 'Crisostomo', 'number': '2'},\n",
        "     'student3': {'name': 'Simoun', 'number': '3'}}\n",
        "     \n",
        "D['student1'] = {'name': 'Reyb', 'number': '999'}\n",
        "print(D)"
      ],
      "metadata": {
        "colab": {
          "base_uri": "https://localhost:8080/"
        },
        "id": "_lbrXChisTqv",
        "outputId": "61381a5f-d500-424e-b967-cd158b08fe92"
      },
      "execution_count": 33,
      "outputs": [
        {
          "output_type": "stream",
          "name": "stdout",
          "text": [
            "高瑞夫 - 4110e233\n",
            "{'student1': {'name': 'Reyb', 'number': '999'}, 'student2': {'name': 'Crisostomo', 'number': '2'}, 'student3': {'name': 'Simoun', 'number': '3'}}\n"
          ]
        }
      ]
    },
    {
      "cell_type": "markdown",
      "source": [
        "If the key is new, it is added to the dictionary with its value."
      ],
      "metadata": {
        "id": "2kh34wdbsVWI"
      }
    },
    {
      "cell_type": "code",
      "source": [
        "print(\"高瑞夫 - 4110e233\")\n",
        "D = {'student1': {'name': 'Juan', 'number': '1'},\n",
        "     'student2': {'name': 'Crisostomo', 'number': '2'},\n",
        "     'student3': {'name': 'Simoun', 'number': '3'}}\n",
        "     \n",
        "D['student4'] = {'name': 'Ibarra', 'number': '4'}\n",
        "print(D)"
      ],
      "metadata": {
        "colab": {
          "base_uri": "https://localhost:8080/"
        },
        "id": "wE-uRjGZsX8Q",
        "outputId": "ca40c210-60a0-4c0b-b9ec-d95c6e7f4247"
      },
      "execution_count": 34,
      "outputs": [
        {
          "output_type": "stream",
          "name": "stdout",
          "text": [
            "高瑞夫 - 4110e233\n",
            "{'student1': {'name': 'Juan', 'number': '1'}, 'student2': {'name': 'Crisostomo', 'number': '2'}, 'student3': {'name': 'Simoun', 'number': '3'}, 'student4': {'name': 'Ibarra', 'number': '4'}}\n"
          ]
        }
      ]
    },
    {
      "cell_type": "markdown",
      "source": [
        "Merge Two Nested Dictionaries\n",
        "- Use the built-in update() method to merge the keys and values of one nested dictionary into another. Note that this method blindly overwrites values of the same key if there’s a clash."
      ],
      "metadata": {
        "id": "wk7KwbhmslBq"
      }
    },
    {
      "cell_type": "code",
      "source": [
        "print(\"高瑞夫 - 4110e233\")\n",
        "D1 = {'student1': {'name': 'Juan', 'number': '1'},\n",
        "      'student2': {'name': 'Crisostomo', 'number': '2'}}\n",
        "\n",
        "D2 = {'student2': {'name': 'Reyb', 'number': '2'},\n",
        "      'student3': {'name': 'Simoun', 'number': '3'}}\n",
        "\n",
        "D1.update(D2)\n",
        "\n",
        "print(D1)"
      ],
      "metadata": {
        "colab": {
          "base_uri": "https://localhost:8080/"
        },
        "id": "YvpC-Rxysnoa",
        "outputId": "ed68be72-bf94-4bc9-fe3b-76477cde7041"
      },
      "execution_count": 35,
      "outputs": [
        {
          "output_type": "stream",
          "name": "stdout",
          "text": [
            "高瑞夫 - 4110e233\n",
            "{'student1': {'name': 'Juan', 'number': '1'}, 'student2': {'name': 'Reyb', 'number': '2'}, 'student3': {'name': 'Simoun', 'number': '3'}}\n"
          ]
        }
      ]
    },
    {
      "cell_type": "code",
      "source": [
        "print(\"高瑞夫 - 4110e233\")\n",
        "\n",
        "#be careful\n",
        "\n",
        "D1 = {'student1': {'name': 'Juan', 'number': '1'},\n",
        "      'student2': {'name': 'Crisostomo', 'number': '2'}}\n",
        "\n",
        "D2 = {'student2': {'name': 'Reyb', 'number': '2'},\n",
        "      'student3': {'name': 'Simoun', 'number': '3'}}\n",
        "\n",
        "D2.update(D1)\n",
        "\n",
        "print(D2)"
      ],
      "metadata": {
        "colab": {
          "base_uri": "https://localhost:8080/"
        },
        "id": "wryyPP8PsoDq",
        "outputId": "8e8aeed1-20fc-4d20-81ec-25959b7fda3e"
      },
      "execution_count": 36,
      "outputs": [
        {
          "output_type": "stream",
          "name": "stdout",
          "text": [
            "高瑞夫 - 4110e233\n",
            "{'student2': {'name': 'Crisostomo', 'number': '2'}, 'student3': {'name': 'Simoun', 'number': '3'}, 'student1': {'name': 'Juan', 'number': '1'}}\n"
          ]
        }
      ]
    },
    {
      "cell_type": "markdown",
      "source": [
        "Remove Nested Dictionary Items\n",
        "- There are several ways to remove items from a nested dictionary."
      ],
      "metadata": {
        "id": "eoGqevKasvz4"
      }
    },
    {
      "cell_type": "markdown",
      "source": [
        "- Remove an Item by Key\n",
        "  - If you know the key of the item you want, you can use pop() method. It removes the key and returns its value."
      ],
      "metadata": {
        "id": "SzquFNYvtDPa"
      }
    },
    {
      "cell_type": "code",
      "source": [
        "print(\"高瑞夫 - 4110e233\")\n",
        "D = {'student1': {'name': 'Juan', 'number': '1'},\n",
        "     'student2': {'name': 'Crisostomo', 'number': '2'},\n",
        "     'student3': {'name': 'Simoun', 'number': '3'},\n",
        "     'student4': {'name': 'Ibarra', 'number': '4'}}\n",
        "\n",
        "x = D.pop('student4')\n",
        "\n",
        "print(D)\n",
        "\n",
        "print(x) #prints the removed value"
      ],
      "metadata": {
        "colab": {
          "base_uri": "https://localhost:8080/"
        },
        "id": "F_bZcR0NtGWg",
        "outputId": "129013c4-c0a9-4525-c55e-f51ccbab0de7"
      },
      "execution_count": 37,
      "outputs": [
        {
          "output_type": "stream",
          "name": "stdout",
          "text": [
            "高瑞夫 - 4110e233\n",
            "{'student1': {'name': 'Juan', 'number': '1'}, 'student2': {'name': 'Crisostomo', 'number': '2'}, 'student3': {'name': 'Simoun', 'number': '3'}}\n",
            "{'name': 'Ibarra', 'number': '4'}\n"
          ]
        }
      ]
    },
    {
      "cell_type": "markdown",
      "source": [
        " - If you don’t need the removed value, use the `del` statement."
      ],
      "metadata": {
        "id": "eKQnIAq8tHzn"
      }
    },
    {
      "cell_type": "code",
      "source": [
        "print(\"高瑞夫 - 4110e233\")\n",
        "D = {'student1': {'name': 'Juan', 'number': '1'},\n",
        "     'student2': {'name': 'Crisostomo', 'number': '2'},\n",
        "     'student3': {'name': 'Simoun', 'number': '3'},\n",
        "     'student4': {'name': 'Ibarra', 'number': '4'}}\n",
        "\n",
        "del D['student4']\n",
        "\n",
        "print(D)"
      ],
      "metadata": {
        "colab": {
          "base_uri": "https://localhost:8080/"
        },
        "id": "Ee995eSGtKVY",
        "outputId": "eb5d5ee9-b48b-48f4-de1e-f547b7a4676e"
      },
      "execution_count": 38,
      "outputs": [
        {
          "output_type": "stream",
          "name": "stdout",
          "text": [
            "高瑞夫 - 4110e233\n",
            "{'student1': {'name': 'Juan', 'number': '1'}, 'student2': {'name': 'Crisostomo', 'number': '2'}, 'student3': {'name': 'Simoun', 'number': '3'}}\n"
          ]
        }
      ]
    },
    {
      "cell_type": "markdown",
      "source": [
        "- Remove Last Inserted Item\n",
        "  - The popitem() method removes and returns the last inserted item as a tuple."
      ],
      "metadata": {
        "id": "LFfy6NFVtMl7"
      }
    },
    {
      "cell_type": "code",
      "source": [
        "print(\"高瑞夫 - 4110e233\")\n",
        "D = {'student1': {'name': 'Juan', 'number': '1'},\n",
        "     'student2': {'name': 'Crisostomo', 'number': '2'},\n",
        "     'student3': {'name': 'Simoun', 'number': '3'},\n",
        "     'student4': {'name': 'Ibarra', 'number': '4'}}\n",
        "     \n",
        "x = D.popitem()\n",
        "\n",
        "print(D)\n",
        "\n",
        "print(x) #prints the last removed inserted item"
      ],
      "metadata": {
        "colab": {
          "base_uri": "https://localhost:8080/"
        },
        "id": "9wwQqL_atOf6",
        "outputId": "84c4ac71-72a6-4c18-8c7e-41f4f29ac23c"
      },
      "execution_count": 2,
      "outputs": [
        {
          "output_type": "stream",
          "name": "stdout",
          "text": [
            "高瑞夫 - 4110e233\n",
            "{'student1': {'name': 'Juan', 'number': '1'}, 'student2': {'name': 'Crisostomo', 'number': '2'}, 'student3': {'name': 'Simoun', 'number': '3'}}\n",
            "('student4', {'name': 'Ibarra', 'number': '4'})\n"
          ]
        }
      ]
    },
    {
      "cell_type": "markdown",
      "source": [
        "Dictionary Methods"
      ],
      "metadata": {
        "id": "lTKPdDSHtV-o"
      }
    },
    {
      "cell_type": "markdown",
      "source": [
        "- Python has a set of built-in methods that you can use on dictionaries."
      ],
      "metadata": {
        "id": "b2CrGfxftcHh"
      }
    },
    {
      "cell_type": "code",
      "source": [
        "print(\"高瑞夫 - 4110e233\")\n",
        "D = {\n",
        "  \"School\": \"KSU\",\n",
        "  \"Country\": \"Taiwan\",\n",
        "  \"year\": 2022\n",
        "}\n",
        "\n",
        "a = D.items()\n",
        "b = D.keys()\n",
        "c = D.values()\n",
        "\n",
        "print(a)\n",
        "print(b)\n",
        "print(c)"
      ],
      "metadata": {
        "colab": {
          "base_uri": "https://localhost:8080/"
        },
        "id": "TB2osmqltX4v",
        "outputId": "cd65945d-0265-4418-ee87-7ebdf3d75839"
      },
      "execution_count": 1,
      "outputs": [
        {
          "output_type": "stream",
          "name": "stdout",
          "text": [
            "高瑞夫 - 4110e233\n",
            "dict_items([('School', 'KSU'), ('Country', 'Taiwan'), ('year', 2022)])\n",
            "dict_keys(['School', 'Country', 'year'])\n",
            "dict_values(['KSU', 'Taiwan', 2022])\n"
          ]
        }
      ]
    }
  ]
}