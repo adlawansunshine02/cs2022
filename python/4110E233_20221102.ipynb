{
  "nbformat": 4,
  "nbformat_minor": 0,
  "metadata": {
    "colab": {
      "provenance": [],
      "collapsed_sections": []
    },
    "kernelspec": {
      "name": "python3",
      "display_name": "Python 3"
    },
    "language_info": {
      "name": "python"
    }
  },
  "cells": [
    {
      "cell_type": "markdown",
      "source": [
        "# 1102 TEST"
      ],
      "metadata": {
        "id": "D211KXGftreD"
      }
    },
    {
      "cell_type": "markdown",
      "source": [
        "#A."
      ],
      "metadata": {
        "id": "AGmc5O5e75Bh"
      }
    },
    {
      "cell_type": "markdown",
      "source": [
        "1.\n",
        "```\n",
        "Which following is the correct way to create a dictionary in Python?\n",
        "   (A) students = { 'name' => 'alice' ;  'score' =>60 }\n",
        "   (B) students = { 'name' = 'alice' ;  'score' =60 }\n",
        "   (C) students = { 'name' : 'alice' ;  'score' : 60 }\n",
        "   (D) students = { 'name' => 'alice' ,  'score' =>60 }\n",
        "   (E) students = { 'name' : 'alice' , 'score' : 60 }\n",
        "```\n",
        "ANSWER: E"
      ],
      "metadata": {
        "id": "P6pvkLz7twPL"
      }
    },
    {
      "cell_type": "markdown",
      "source": [
        "2.\n",
        "```\n",
        "What does the following Python program fragment do?\n",
        "   s=0\n",
        "   for i in range (3 , 10) :\n",
        "        s+=i\n",
        "   print (s)\n",
        "   (A) Calculate the sum of 1+2+…+10\n",
        "   (B) Calculate the sum of 1+4+7+10\n",
        "   (C) Calculate the sum of 3+4+5+6+…+9\n",
        "   (D) Calculate the sum of 3+4+5+6+…+10\n",
        "   (E) Calculate the sum of 0+2+4+6+…+10\n",
        "```\n",
        "ANSWER: C"
      ],
      "metadata": {
        "id": "QG9URfhYwY6c"
      }
    },
    {
      "cell_type": "code",
      "source": [
        "#EXPLAINATION:\n",
        "3+4+5+6+7+8+9 #10 is not included"
      ],
      "metadata": {
        "colab": {
          "base_uri": "https://localhost:8080/"
        },
        "id": "URyFXFI_zoIP",
        "outputId": "9b2edd77-0d79-4034-c1d3-c73a21e2cb30"
      },
      "execution_count": null,
      "outputs": [
        {
          "output_type": "execute_result",
          "data": {
            "text/plain": [
              "42"
            ]
          },
          "metadata": {},
          "execution_count": 9
        }
      ]
    },
    {
      "cell_type": "code",
      "source": [
        "s=0\n",
        "for i in range (3 , 10) :\n",
        "      s+=i\n",
        "print (s)"
      ],
      "metadata": {
        "colab": {
          "base_uri": "https://localhost:8080/"
        },
        "id": "jmLnrLw0yhtU",
        "outputId": "15168c02-0db2-4690-cc22-7796a9b71b35"
      },
      "execution_count": null,
      "outputs": [
        {
          "output_type": "stream",
          "name": "stdout",
          "text": [
            "42\n"
          ]
        }
      ]
    },
    {
      "cell_type": "markdown",
      "source": [
        "3.\n",
        "```\n",
        "What is the output of this code in Python?\n",
        "      list = [ ' a ' ,  ' b ' ,  ' c ' ,  ' d ' ,  ' e ' ]\n",
        "      print (list [ 1 : ])\n",
        "   (A) [ ]\n",
        "   (B) [ 'b' ]\n",
        "   (C) [ 'a' ,  'b' ]\n",
        "   (D) [ 'b' ,  'c' ,  'd' ,  'e' ]\n",
        "```\n",
        "ANSWER: D"
      ],
      "metadata": {
        "id": "j-4mc3S7xixO"
      }
    },
    {
      "cell_type": "code",
      "source": [
        "list = [ ' a ' ,  ' b ' ,  ' c ' ,  ' d ' ,  ' e ' ]\n",
        "print (list [ 1 : ])"
      ],
      "metadata": {
        "colab": {
          "base_uri": "https://localhost:8080/"
        },
        "id": "R3WdWiYm0Iym",
        "outputId": "652467d5-d15c-469e-b532-2e7b93c9db8a"
      },
      "execution_count": null,
      "outputs": [
        {
          "output_type": "stream",
          "name": "stdout",
          "text": [
            "[' b ', ' c ', ' d ', ' e ']\n"
          ]
        }
      ]
    },
    {
      "cell_type": "markdown",
      "source": [
        "4.\n",
        "```\n",
        "What is the output of this code in Python?\n",
        "        L1 = [ ]\n",
        "        L1.append ( [1, [2, 3], 4] )\n",
        "        L1.extend ( [7, 8, 9] )\n",
        "        print(L1[0][1][1] + L1[2] )\n",
        "   (A) 3  (B) 8  (C) 11  (D) 38  (E) None of these\n",
        "```\n",
        "ANSWER: C"
      ],
      "metadata": {
        "id": "YxM9boSsx6HT"
      }
    },
    {
      "cell_type": "code",
      "source": [
        "L1 = [ ]\n",
        "L1.append ( [1, [2, 3], 4] )\n",
        "L1.extend ( [7, 8, 9] )\n",
        "print(L1[0][1][1] + L1[2] )"
      ],
      "metadata": {
        "colab": {
          "base_uri": "https://localhost:8080/"
        },
        "id": "ZbYCmCYf0s8G",
        "outputId": "2e5b06e1-8db7-48db-845e-007bed0cc43e"
      },
      "execution_count": null,
      "outputs": [
        {
          "output_type": "stream",
          "name": "stdout",
          "text": [
            "11\n"
          ]
        }
      ]
    },
    {
      "cell_type": "markdown",
      "source": [
        "5.\n",
        "```\n",
        "What is the output of this code in python?\n",
        "        r = lambda q: q * 2\n",
        "        s = lambda q: q * 3\n",
        "        x = 2\n",
        "        x = r (x)\n",
        "        x = s (x)\n",
        "        x = r (x)\n",
        "        print (x)\n",
        "   (A) 2  (B) 4  (C) 6  (D) 12  (E) 24\n",
        "```\n",
        "ANSWER: E"
      ],
      "metadata": {
        "id": "jkp2bqtux6lj"
      }
    },
    {
      "cell_type": "code",
      "source": [
        "r = lambda q: q * 2\n",
        "s = lambda q: q * 3\n",
        "x = 2\n",
        "x = r (x)\n",
        "x = s (x)\n",
        "x = r (x)\n",
        "print (x)"
      ],
      "metadata": {
        "colab": {
          "base_uri": "https://localhost:8080/"
        },
        "id": "y-yPp5Ec1zV4",
        "outputId": "6509757e-0ad7-401e-dad3-cd036b51606d"
      },
      "execution_count": null,
      "outputs": [
        {
          "output_type": "stream",
          "name": "stdout",
          "text": [
            "24\n"
          ]
        }
      ]
    },
    {
      "cell_type": "markdown",
      "source": [
        "6.\n",
        "```\n",
        "Which of the following conditions correctly describes the output of this code in  Python?\n",
        "         first = [1 , 2 , 3 , 4 , 5]\n",
        "         second = first\n",
        "         second.append (6)\n",
        "         print (first)\n",
        "         print (second)\n",
        "   (A) first=[1, 2, 3, 4, 5], second=[1, 2, 3, 4, 5, 6]\n",
        "   (B) first=[1, 2, 3, 4, 5, 6], second=[1, 2, 3, 4, 5]\n",
        "   (C) first=[1, 2, 3, 4, 5], second=[1, 2, 3, 4, 5]\n",
        "   (D) first=[1, 2, 3, 4, 5, 6], second=[1, 2, 3, 4, 5, 6]\n",
        "   (E) None of these\n",
        "```\n",
        "ANSWER: D"
      ],
      "metadata": {
        "id": "WZmjGY7px64c"
      }
    },
    {
      "cell_type": "code",
      "source": [
        "first = [1 , 2 , 3 , 4 , 5]\n",
        "second = first\n",
        "second.append (6)\n",
        "print (first)\n",
        "print (second)"
      ],
      "metadata": {
        "colab": {
          "base_uri": "https://localhost:8080/"
        },
        "id": "VCLxc0gW2Qqe",
        "outputId": "4b8d9461-337a-4b8c-a032-fc445c60f32f"
      },
      "execution_count": null,
      "outputs": [
        {
          "output_type": "stream",
          "name": "stdout",
          "text": [
            "[1, 2, 3, 4, 5, 6]\n",
            "[1, 2, 3, 4, 5, 6]\n"
          ]
        }
      ]
    },
    {
      "cell_type": "markdown",
      "source": [
        "7.\n",
        "```\n",
        "If the function \n",
        "int volume (int x = 1, int y = 1, int z = 1); \n",
        "is called by the expression volume (7,8), \n",
        "how many default arguments are used?\n",
        "(A) None  (B) One  (C) Two  (D) Three\n",
        "(E) It depends on the runtime environment.\n",
        "```"
      ],
      "metadata": {
        "id": "4YA-Be4wyEtm"
      }
    },
    {
      "cell_type": "markdown",
      "source": [
        "ANSWER: B"
      ],
      "metadata": {
        "id": "UH3mbvUXANUC"
      }
    },
    {
      "cell_type": "code",
      "execution_count": null,
      "metadata": {
        "id": "qHJ_l5HAsrH7"
      },
      "outputs": [],
      "source": []
    },
    {
      "cell_type": "markdown",
      "source": [
        "#B."
      ],
      "metadata": {
        "id": "HyzpK4797843"
      }
    },
    {
      "cell_type": "markdown",
      "source": [
        "B1.What is the output of this code in Python? explain it.\n",
        "```\n",
        "# primes.py\n",
        "primes = []  # this will contain the primes at the end\n",
        "upto = 100  # the limit, inclusive\n",
        "for n in range(2, upto + 1):\n",
        "    is_prime = True  # flag, new at each iteration of outer for\n",
        "    for divisor in range(2, n):\n",
        "        if n % divisor == 0:\n",
        "            is_prime = False\n",
        "            break\n",
        "    if is_prime:  # check on flag\n",
        "        primes.append(n)\n",
        "print(primes)\n",
        "```"
      ],
      "metadata": {
        "id": "EmN9V5l94Dxw"
      }
    },
    {
      "cell_type": "markdown",
      "source": [
        "ANSWER:"
      ],
      "metadata": {
        "id": "KLx-znuI9O2g"
      }
    },
    {
      "cell_type": "code",
      "source": [
        "primes = []  # this will contain the primes at the end\n",
        "upto = 100  # the limit, inclusive\n",
        "for n in range(2, upto + 1):\n",
        "    is_prime = True  # flag, new at each iteration of outer for\n",
        "    for divisor in range(2, n):\n",
        "        if n % divisor == 0:\n",
        "            is_prime = False\n",
        "            break\n",
        "    if is_prime:  # check on flag\n",
        "        primes.append(n)\n",
        "print(primes)"
      ],
      "metadata": {
        "colab": {
          "base_uri": "https://localhost:8080/"
        },
        "id": "GZ_heaZm4RuX",
        "outputId": "97174301-21b6-4737-8f3d-204f0dae92b6"
      },
      "execution_count": null,
      "outputs": [
        {
          "output_type": "stream",
          "name": "stdout",
          "text": [
            "[2, 3, 5, 7, 11, 13, 17, 19, 23, 29, 31, 37, 41, 43, 47, 53, 59, 61, 67, 71, 73, 79, 83, 89, 97]\n"
          ]
        }
      ]
    },
    {
      "cell_type": "markdown",
      "source": [
        "EXPLAINATION: \n",
        "```\n",
        "# primes.py\n",
        "primes = []  # this will contain the primes at the end\n",
        "upto = 100  # the limit, inclusive\n",
        "for n in range(2, upto + 1):\n",
        "    is_prime = True  # flag, new at each iteration of outer for\n",
        "    for divisor in range(2, n):\n",
        "        if n % divisor == 0:\n",
        "            is_prime = False # if the remainder of n is equal to 0 then it is not included\n",
        "            break\n",
        "    if is_prime:  # check on flag\n",
        "        primes.append(n) # if is_prime is true or the remainder of n is not equal to 0 then it will append or added in the list\n",
        "print(primes)\n",
        "```"
      ],
      "metadata": {
        "id": "ukW1wgw-52Hn"
      }
    },
    {
      "cell_type": "markdown",
      "source": [
        "B2.What is the output of this code in Python? explain it.\n",
        "```\n",
        "# primes.else.py\n",
        "primes = []\n",
        "upto = 100\n",
        "for n in range(2, upto + 1):\n",
        "    for divisor in range(2, n):\n",
        "        if n % divisor == 0:\n",
        "            break\n",
        "    else:\n",
        "        primes.append(n)\n",
        "print(primes)\n",
        "```"
      ],
      "metadata": {
        "id": "vrce9cS9682y"
      }
    },
    {
      "cell_type": "markdown",
      "source": [
        "ANSWER:"
      ],
      "metadata": {
        "id": "BxGAlqQG9Sbx"
      }
    },
    {
      "cell_type": "code",
      "source": [
        "# primes.else.py\n",
        "primes = []\n",
        "upto = 100\n",
        "for n in range(2, upto + 1):\n",
        "    for divisor in range(2, n):\n",
        "        if n % divisor == 0:\n",
        "            break\n",
        "    else:\n",
        "        primes.append(n)\n",
        "print(primes)"
      ],
      "metadata": {
        "colab": {
          "base_uri": "https://localhost:8080/"
        },
        "id": "YyOejAi77MCy",
        "outputId": "cbb115c8-9806-49e0-e5a1-6d64cd95c99c"
      },
      "execution_count": null,
      "outputs": [
        {
          "output_type": "stream",
          "name": "stdout",
          "text": [
            "[2, 3, 5, 7, 11, 13, 17, 19, 23, 29, 31, 37, 41, 43, 47, 53, 59, 61, 67, 71, 73, 79, 83, 89, 97]\n"
          ]
        }
      ]
    },
    {
      "cell_type": "markdown",
      "source": [
        "EXPLAINATION:\n",
        "```\n",
        "# primes.else.py\n",
        "primes = [] # will contain the prime numbers\n",
        "upto = 100 # limit\n",
        "for n in range(2, upto + 1):\n",
        "    for divisor in range(2, n):\n",
        "        if n % divisor == 0: # if the remainder of n is equal to 0 then it is not included\n",
        "            break\n",
        "    else:\n",
        "        primes.append(n) # if the remainder of n is not equal to 0 then it will append or added in the list\n",
        "print(primes)\n",
        "```"
      ],
      "metadata": {
        "id": "b3mbRJY-7kkP"
      }
    },
    {
      "cell_type": "markdown",
      "source": [
        "B3.What is the output of this code in Python?explain it.\n",
        "```\n",
        "cubes = [x**3 for x in range(1,6)]\n",
        "print(cubes)\n",
        "```"
      ],
      "metadata": {
        "id": "FIiA7IbA86ia"
      }
    },
    {
      "cell_type": "markdown",
      "source": [
        "ANSWER:"
      ],
      "metadata": {
        "id": "VBKfczt29WmA"
      }
    },
    {
      "cell_type": "code",
      "source": [
        "cubes = [x**3 for x in range(1,6)]\n",
        "print(cubes)"
      ],
      "metadata": {
        "colab": {
          "base_uri": "https://localhost:8080/"
        },
        "id": "aVH3ixkv9CKK",
        "outputId": "1dbf9826-2733-41ab-e7a7-4c18beeba26c"
      },
      "execution_count": null,
      "outputs": [
        {
          "output_type": "stream",
          "name": "stdout",
          "text": [
            "[1, 8, 27, 64, 125]\n"
          ]
        }
      ]
    },
    {
      "cell_type": "markdown",
      "source": [
        "EXPLAINATION:\n",
        "```\n",
        "range(1,6) == > 1,2,3,4,5\n",
        "\n",
        "[x**3 for x in range(1,6)] ==> [1**3 , 2**3 , ...., 5**3]\n",
        "\n",
        "2**3 = 8\n",
        "\n",
        "```"
      ],
      "metadata": {
        "id": "0Yr7t1HV9kWa"
      }
    },
    {
      "cell_type": "markdown",
      "source": [
        "#C."
      ],
      "metadata": {
        "id": "yeGUEpUt-Gcr"
      }
    },
    {
      "cell_type": "markdown",
      "source": [
        "C.Programming Python\n",
        "```\n",
        "The Fibonacci numbers may be defined by the recurrence relation\n",
        " F_{0}=0, F_{1}=1\n",
        "and\n",
        "F_{n} = F_{n-1} + F_{n-2}   for n > 1.\n",
        "\n",
        "0,1,1,2,3,5,8,......\n",
        "\n",
        "Under some older definitions, the value  F_{0}=0 is omitted, \n",
        "so that the sequence starts with F_{1}=F_{2}=1 and \n",
        "the recurrence F_{n}=F_{n-1}+F_{n-2} is valid for n > 2\n",
        "\n",
        "(1)Write a Python function/Program to Find Fibonacci Numbers using Recursion\n",
        "(2)use iterative Approach To Find the nth Term Of Fibonacci Sequence(You need to write a function using loop)\n",
        "```"
      ],
      "metadata": {
        "id": "ImZ_4yUP-IIC"
      }
    },
    {
      "cell_type": "markdown",
      "source": [
        "ANSWERS:"
      ],
      "metadata": {
        "id": "CJLhALFK-irQ"
      }
    },
    {
      "cell_type": "markdown",
      "source": [
        "1."
      ],
      "metadata": {
        "id": "Yue03a0bBcSz"
      }
    },
    {
      "cell_type": "code",
      "source": [
        "def f(n):\n",
        "  if n == 0:\n",
        "    return 0\n",
        "  if n == 1:\n",
        "    return 1\n",
        "  else:\n",
        "    return f(n-1) + f(n-2)\n",
        "\n",
        "f(6) #in this code note that the n starts at 0"
      ],
      "metadata": {
        "id": "BmOEycf1-MmZ"
      },
      "execution_count": null,
      "outputs": []
    },
    {
      "cell_type": "markdown",
      "source": [
        "2."
      ],
      "metadata": {
        "id": "8e4563-0BacJ"
      }
    },
    {
      "cell_type": "code",
      "source": [
        "def f(n):\n",
        "  a = 0\n",
        "  b = 1\n",
        "  if n == 0:\n",
        "    return a\n",
        "  if n == 1:\n",
        "    return b\n",
        "  else:\n",
        "    for i in range(2,n):\n",
        "        c = a + b\n",
        "        a = b\n",
        "        b = c\n",
        "    return b\n",
        "f(7) #in this code note that the n starts at 1"
      ],
      "metadata": {
        "id": "UhBlYhSz-O8q"
      },
      "execution_count": null,
      "outputs": []
    }
  ]
}