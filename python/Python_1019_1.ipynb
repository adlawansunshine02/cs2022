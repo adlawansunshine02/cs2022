{
  "nbformat": 4,
  "nbformat_minor": 0,
  "metadata": {
    "colab": {
      "provenance": [],
      "collapsed_sections": []
    },
    "kernelspec": {
      "name": "python3",
      "display_name": "Python 3"
    },
    "language_info": {
      "name": "python"
    }
  },
  "cells": [
    {
      "cell_type": "markdown",
      "source": [
        "# 1019 4110E233\n",
        "Python Conditions and If statements"
      ],
      "metadata": {
        "id": "ezfZSgJyuEn9"
      }
    },
    {
      "cell_type": "markdown",
      "source": [
        "Exercise 1 : Print \"Hello everyone\" if a is greater than b."
      ],
      "metadata": {
        "id": "Kdus4p64umzs"
      }
    },
    {
      "cell_type": "code",
      "execution_count": 3,
      "metadata": {
        "colab": {
          "base_uri": "https://localhost:8080/"
        },
        "id": "ffbgDn1yt7Hj",
        "outputId": "33d15533-7dd5-4f75-eefe-dc3121945b66"
      },
      "outputs": [
        {
          "output_type": "stream",
          "name": "stdout",
          "text": [
            "Hello everyone\n"
          ]
        }
      ],
      "source": [
        "a = 100\n",
        "b = 99\n",
        "if a > b:\n",
        "    print(\"Hello everyone\")"
      ]
    },
    {
      "cell_type": "markdown",
      "source": [
        "Exercise 2 : Print \"Hello everyone\" if a is not equal to b."
      ],
      "metadata": {
        "id": "rWIbJYwcvUQ-"
      }
    },
    {
      "cell_type": "code",
      "source": [
        "a = 100\n",
        "b = 99\n",
        "if a != b:\n",
        "    print(\"Hello everyone\")"
      ],
      "metadata": {
        "colab": {
          "base_uri": "https://localhost:8080/"
        },
        "id": "-Z5kmuzGvdJN",
        "outputId": "5b665be4-b0b5-443a-d396-d834a69eef36"
      },
      "execution_count": 4,
      "outputs": [
        {
          "output_type": "stream",
          "name": "stdout",
          "text": [
            "Hello everyone\n"
          ]
        }
      ]
    },
    {
      "cell_type": "markdown",
      "source": [
        "Exercise 3 : Print \"YES\" if a is equal to b, otherwise print \"NO\"."
      ],
      "metadata": {
        "id": "AwTb5d0lvnUf"
      }
    },
    {
      "cell_type": "code",
      "source": [
        "a = 100\n",
        "b = 99\n",
        "if a == b:\n",
        "  print(\"YES\")\n",
        "else:\n",
        "  print(\"NO\")"
      ],
      "metadata": {
        "colab": {
          "base_uri": "https://localhost:8080/"
        },
        "id": "g98EQfNdvyE4",
        "outputId": "ff752c43-10dc-448d-a861-4d210f199640"
      },
      "execution_count": 5,
      "outputs": [
        {
          "output_type": "stream",
          "name": "stdout",
          "text": [
            "NO\n"
          ]
        }
      ]
    },
    {
      "cell_type": "markdown",
      "source": [
        "Exercise 4 : Print \"yes\" if a is equal to b, print \"maybe\" if a is greater than b, otherwise print \"no\"."
      ],
      "metadata": {
        "id": "JaWWup7ZwggN"
      }
    },
    {
      "cell_type": "code",
      "source": [
        "a = 100\n",
        "b = 99\n",
        "if a == b:\n",
        "  print(\"yes\")\n",
        "elif a > b:\n",
        "  print(\"maybe\")\n",
        "else:\n",
        "  print(\"no\")"
      ],
      "metadata": {
        "colab": {
          "base_uri": "https://localhost:8080/"
        },
        "id": "4YZ7agJKwjPt",
        "outputId": "b79fe8a3-78e6-43fb-a386-407586b18fd0"
      },
      "execution_count": 6,
      "outputs": [
        {
          "output_type": "stream",
          "name": "stdout",
          "text": [
            "maybe\n"
          ]
        }
      ]
    },
    {
      "cell_type": "markdown",
      "source": [
        "Exercise 5 : Print \"Hi\" if a is equal to b, and c is equal to d."
      ],
      "metadata": {
        "id": "JovKl7h0w37e"
      }
    },
    {
      "cell_type": "code",
      "source": [
        "a = 100\n",
        "b = 100\n",
        "c = 100\n",
        "d = 100\n",
        "if a == b and c == d:\n",
        "  print(\"Hi\")"
      ],
      "metadata": {
        "colab": {
          "base_uri": "https://localhost:8080/"
        },
        "id": "Za31EcQOw7Kd",
        "outputId": "051ed8ed-02e1-430a-b6f9-08c4e77ecbc8"
      },
      "execution_count": 13,
      "outputs": [
        {
          "output_type": "stream",
          "name": "stdout",
          "text": [
            "Hi\n"
          ]
        }
      ]
    },
    {
      "cell_type": "markdown",
      "source": [
        "Exercise 6 : Print \"Hey\" if a is equal to b, or if c is equal to d."
      ],
      "metadata": {
        "id": "cOdIVIDXxPVv"
      }
    },
    {
      "cell_type": "code",
      "source": [
        "a = 100\n",
        "b = 99\n",
        "c = 50\n",
        "d = 50\n",
        "if a == b or c == d:\n",
        "  print(\"Hey\")"
      ],
      "metadata": {
        "colab": {
          "base_uri": "https://localhost:8080/"
        },
        "id": "VPqaBs9dxSLH",
        "outputId": "40645b8f-2f3a-4357-f72e-c078a6f2dd04"
      },
      "execution_count": 15,
      "outputs": [
        {
          "output_type": "stream",
          "name": "stdout",
          "text": [
            "Hey\n"
          ]
        }
      ]
    },
    {
      "cell_type": "markdown",
      "source": [
        "Exercise 7 : This example misses indentations to be correct.\n",
        "\n",
        "Insert the missing indentation to make the code correct:"
      ],
      "metadata": {
        "id": "VMBjQzeAxzpa"
      }
    },
    {
      "cell_type": "code",
      "source": [
        "if 10 > 9:\n",
        "    print(\"Ten is greater than nine!\")"
      ],
      "metadata": {
        "colab": {
          "base_uri": "https://localhost:8080/"
        },
        "id": "6gMSGiTyyYns",
        "outputId": "67fd8ccf-1a8e-46ff-cf30-68f9056b29d3"
      },
      "execution_count": 16,
      "outputs": [
        {
          "output_type": "stream",
          "name": "stdout",
          "text": [
            "Ten is greater than nine!\n"
          ]
        }
      ]
    },
    {
      "cell_type": "markdown",
      "source": [
        "Exercise 8 : Use the correct short hand syntax to put the following statement on one line:"
      ],
      "metadata": {
        "id": "j6k4MZi7yiOd"
      }
    },
    {
      "cell_type": "code",
      "source": [
        "if 10 > 9: print(\"Ten is greater than nine!\")"
      ],
      "metadata": {
        "colab": {
          "base_uri": "https://localhost:8080/"
        },
        "id": "cxb5lxhlypU4",
        "outputId": "b0d01176-efa7-4516-906f-ed2d01ce9381"
      },
      "execution_count": 18,
      "outputs": [
        {
          "output_type": "stream",
          "name": "stdout",
          "text": [
            "Ten is greater than nine!\n"
          ]
        }
      ]
    },
    {
      "cell_type": "markdown",
      "source": [
        "Exercise 9 : Use the correct short hand syntax to write the following conditional expression in one line:"
      ],
      "metadata": {
        "id": "Bt0aW-c4y_Ym"
      }
    },
    {
      "cell_type": "code",
      "source": [
        "print(\"nice\") if 10 > 9 else print(\"not nice\")"
      ],
      "metadata": {
        "colab": {
          "base_uri": "https://localhost:8080/"
        },
        "id": "hLlBcaN0zBvX",
        "outputId": "f1cc244d-2673-45c6-9107-5d3d8574d9a4"
      },
      "execution_count": 19,
      "outputs": [
        {
          "output_type": "stream",
          "name": "stdout",
          "text": [
            "nice\n"
          ]
        }
      ]
    }
  ]
}